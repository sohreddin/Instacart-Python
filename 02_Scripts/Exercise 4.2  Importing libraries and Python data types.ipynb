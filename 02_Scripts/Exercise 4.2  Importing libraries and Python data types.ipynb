{
 "cells": [
  {
   "cell_type": "markdown",
   "id": "eaccbab6",
   "metadata": {},
   "source": [
    "# 01. Importing libraries"
   ]
  },
  {
   "cell_type": "code",
   "execution_count": 1,
   "id": "2356df2f",
   "metadata": {},
   "outputs": [],
   "source": [
    "# Import libraries\n",
    "import pandas as pd\n",
    "import numpy as np\n",
    "import os\n"
   ]
  },
  {
   "cell_type": "markdown",
   "id": "a54508ad",
   "metadata": {},
   "source": [
    "# 02. Data types"
   ]
  },
  {
   "cell_type": "code",
   "execution_count": 18,
   "id": "76837a30",
   "metadata": {},
   "outputs": [],
   "source": [
    "a = 90"
   ]
  },
  {
   "cell_type": "code",
   "execution_count": 27,
   "id": "4dd0c3a5",
   "metadata": {},
   "outputs": [],
   "source": [
    "b = 150"
   ]
  },
  {
   "cell_type": "code",
   "execution_count": 28,
   "id": "c2c06465",
   "metadata": {},
   "outputs": [],
   "source": [
    "c = 250"
   ]
  },
  {
   "cell_type": "code",
   "execution_count": 23,
   "id": "fba2dcf5",
   "metadata": {},
   "outputs": [],
   "source": [
    "d = 10"
   ]
  },
  {
   "cell_type": "code",
   "execution_count": 21,
   "id": "d2037def",
   "metadata": {},
   "outputs": [],
   "source": [
    "e = 200"
   ]
  },
  {
   "cell_type": "code",
   "execution_count": 24,
   "id": "46be243c",
   "metadata": {},
   "outputs": [
    {
     "data": {
      "text/plain": [
       "100"
      ]
     },
     "execution_count": 24,
     "metadata": {},
     "output_type": "execute_result"
    }
   ],
   "source": [
    "a + d"
   ]
  },
  {
   "cell_type": "code",
   "execution_count": 29,
   "id": "a348fe9d",
   "metadata": {},
   "outputs": [
    {
     "data": {
      "text/plain": [
       "100"
      ]
     },
     "execution_count": 29,
     "metadata": {},
     "output_type": "execute_result"
    }
   ],
   "source": [
    "c - b"
   ]
  },
  {
   "cell_type": "code",
   "execution_count": 32,
   "id": "f71f773e",
   "metadata": {},
   "outputs": [
    {
     "data": {
      "text/plain": [
       "100"
      ]
     },
     "execution_count": 32,
     "metadata": {},
     "output_type": "execute_result"
    }
   ],
   "source": [
    "e - a - d"
   ]
  },
  {
   "cell_type": "code",
   "execution_count": 45,
   "id": "ca28e144",
   "metadata": {},
   "outputs": [],
   "source": [
    "u = 8.169"
   ]
  },
  {
   "cell_type": "code",
   "execution_count": 47,
   "id": "7770f27c",
   "metadata": {},
   "outputs": [
    {
     "data": {
      "text/plain": [
       "float"
      ]
     },
     "execution_count": 47,
     "metadata": {},
     "output_type": "execute_result"
    }
   ],
   "source": [
    "type(u)"
   ]
  },
  {
   "cell_type": "code",
   "execution_count": 12,
   "id": "4841a645",
   "metadata": {},
   "outputs": [],
   "source": [
    "t = 3.432"
   ]
  },
  {
   "cell_type": "code",
   "execution_count": 13,
   "id": "931ad636",
   "metadata": {},
   "outputs": [
    {
     "data": {
      "text/plain": [
       "float"
      ]
     },
     "execution_count": 13,
     "metadata": {},
     "output_type": "execute_result"
    }
   ],
   "source": [
    "type(t)"
   ]
  },
  {
   "cell_type": "code",
   "execution_count": 48,
   "id": "a0de7c7f",
   "metadata": {},
   "outputs": [
    {
     "data": {
      "text/plain": [
       "2.3802447552447554"
      ]
     },
     "execution_count": 48,
     "metadata": {},
     "output_type": "execute_result"
    }
   ],
   "source": [
    "u / t"
   ]
  },
  {
   "cell_type": "code",
   "execution_count": 15,
   "id": "897c29e8",
   "metadata": {},
   "outputs": [],
   "source": [
    "z = 'Germany'"
   ]
  },
  {
   "cell_type": "code",
   "execution_count": 16,
   "id": "a1a60e67",
   "metadata": {},
   "outputs": [
    {
     "data": {
      "text/plain": [
       "str"
      ]
     },
     "execution_count": 16,
     "metadata": {},
     "output_type": "execute_result"
    }
   ],
   "source": [
    "type(z)"
   ]
  },
  {
   "cell_type": "code",
   "execution_count": 10,
   "id": "dcbfcd0c",
   "metadata": {},
   "outputs": [
    {
     "data": {
      "text/plain": [
       "bool"
      ]
     },
     "execution_count": 10,
     "metadata": {},
     "output_type": "execute_result"
    }
   ],
   "source": [
    "type(True)"
   ]
  },
  {
   "cell_type": "code",
   "execution_count": 11,
   "id": "cf8ed39b",
   "metadata": {},
   "outputs": [
    {
     "data": {
      "text/plain": [
       "bool"
      ]
     },
     "execution_count": 11,
     "metadata": {},
     "output_type": "execute_result"
    }
   ],
   "source": [
    "type(False)"
   ]
  },
  {
   "cell_type": "code",
   "execution_count": 36,
   "id": "1188b089",
   "metadata": {},
   "outputs": [],
   "source": [
    "x = 'Guten '"
   ]
  },
  {
   "cell_type": "code",
   "execution_count": 38,
   "id": "ce7dacb2",
   "metadata": {},
   "outputs": [],
   "source": [
    "y = 'Tag!'"
   ]
  },
  {
   "cell_type": "code",
   "execution_count": 49,
   "id": "6e9d4baf",
   "metadata": {},
   "outputs": [
    {
     "data": {
      "text/plain": [
       "'Guten Tag!'"
      ]
     },
     "execution_count": 49,
     "metadata": {},
     "output_type": "execute_result"
    }
   ],
   "source": [
    "x + y"
   ]
  },
  {
   "cell_type": "code",
   "execution_count": 41,
   "id": "163a3653",
   "metadata": {},
   "outputs": [],
   "source": [
    "n = 'Mein Name ist '"
   ]
  },
  {
   "cell_type": "code",
   "execution_count": 42,
   "id": "d5638864",
   "metadata": {},
   "outputs": [],
   "source": [
    "m = 'Söhreddin'"
   ]
  },
  {
   "cell_type": "code",
   "execution_count": 43,
   "id": "655aaa43",
   "metadata": {
    "scrolled": true
   },
   "outputs": [
    {
     "data": {
      "text/plain": [
       "'Mein Name ist Söhreddin'"
      ]
     },
     "execution_count": 43,
     "metadata": {},
     "output_type": "execute_result"
    }
   ],
   "source": [
    "n + m"
   ]
  },
  {
   "cell_type": "code",
   "execution_count": 52,
   "id": "909877ef",
   "metadata": {},
   "outputs": [],
   "source": [
    "p = 'success '"
   ]
  },
  {
   "cell_type": "code",
   "execution_count": 53,
   "id": "29849908",
   "metadata": {},
   "outputs": [
    {
     "data": {
      "text/plain": [
       "'success success success success success success success success success success success success success success success success success success success success success success success success success success success success success success success success success success success success success success success success success success success success success success success success success success success success success success success success success success success success success success success success success success success success success success success success success success success success success success success success success success success success success success success success success success success success success success success success success success success success '"
      ]
     },
     "execution_count": 53,
     "metadata": {},
     "output_type": "execute_result"
    }
   ],
   "source": [
    "p * 100"
   ]
  }
 ],
 "metadata": {
  "kernelspec": {
   "display_name": "Python 3 (ipykernel)",
   "language": "python",
   "name": "python3"
  },
  "language_info": {
   "codemirror_mode": {
    "name": "ipython",
    "version": 3
   },
   "file_extension": ".py",
   "mimetype": "text/x-python",
   "name": "python",
   "nbconvert_exporter": "python",
   "pygments_lexer": "ipython3",
   "version": "3.9.13"
  }
 },
 "nbformat": 4,
 "nbformat_minor": 5
}
