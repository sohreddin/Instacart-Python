{
 "cells": [
  {
   "cell_type": "markdown",
   "id": "90c7bc88",
   "metadata": {},
   "source": [
    "## 1. Import  libraries"
   ]
  },
  {
   "cell_type": "code",
   "execution_count": 1,
   "id": "02455d89",
   "metadata": {},
   "outputs": [],
   "source": [
    "# Import libraries\n",
    "\n",
    "import pandas as pd\n",
    "import numpy as np\n",
    "import os"
   ]
  },
  {
   "cell_type": "markdown",
   "id": "13fbae28",
   "metadata": {},
   "source": [
    "## 2. Import a new customer data set"
   ]
  },
  {
   "cell_type": "code",
   "execution_count": 3,
   "id": "7dd96430",
   "metadata": {},
   "outputs": [],
   "source": [
    "# Import data\n",
    "\n",
    "path = r'/Users/berk/Instacart_Grocery_Basket_Analysis'"
   ]
  },
  {
   "cell_type": "code",
   "execution_count": 4,
   "id": "6e163cbd",
   "metadata": {},
   "outputs": [],
   "source": [
    "df_customers = pd.read_csv(os.path.join(path, '02_Data', 'Original_Data', 'customers.csv'))"
   ]
  },
  {
   "cell_type": "code",
   "execution_count": 5,
   "id": "463a08ad",
   "metadata": {},
   "outputs": [
    {
     "data": {
      "text/html": [
       "<div>\n",
       "<style scoped>\n",
       "    .dataframe tbody tr th:only-of-type {\n",
       "        vertical-align: middle;\n",
       "    }\n",
       "\n",
       "    .dataframe tbody tr th {\n",
       "        vertical-align: top;\n",
       "    }\n",
       "\n",
       "    .dataframe thead th {\n",
       "        text-align: right;\n",
       "    }\n",
       "</style>\n",
       "<table border=\"1\" class=\"dataframe\">\n",
       "  <thead>\n",
       "    <tr style=\"text-align: right;\">\n",
       "      <th></th>\n",
       "      <th>user_id</th>\n",
       "      <th>First Name</th>\n",
       "      <th>Surnam</th>\n",
       "      <th>Gender</th>\n",
       "      <th>STATE</th>\n",
       "      <th>Age</th>\n",
       "      <th>date_joined</th>\n",
       "      <th>n_dependants</th>\n",
       "      <th>fam_status</th>\n",
       "      <th>income</th>\n",
       "    </tr>\n",
       "  </thead>\n",
       "  <tbody>\n",
       "    <tr>\n",
       "      <th>0</th>\n",
       "      <td>26711</td>\n",
       "      <td>Deborah</td>\n",
       "      <td>Esquivel</td>\n",
       "      <td>Female</td>\n",
       "      <td>Missouri</td>\n",
       "      <td>48</td>\n",
       "      <td>1/1/2017</td>\n",
       "      <td>3</td>\n",
       "      <td>married</td>\n",
       "      <td>165665</td>\n",
       "    </tr>\n",
       "    <tr>\n",
       "      <th>1</th>\n",
       "      <td>33890</td>\n",
       "      <td>Patricia</td>\n",
       "      <td>Hart</td>\n",
       "      <td>Female</td>\n",
       "      <td>New Mexico</td>\n",
       "      <td>36</td>\n",
       "      <td>1/1/2017</td>\n",
       "      <td>0</td>\n",
       "      <td>single</td>\n",
       "      <td>59285</td>\n",
       "    </tr>\n",
       "    <tr>\n",
       "      <th>2</th>\n",
       "      <td>65803</td>\n",
       "      <td>Kenneth</td>\n",
       "      <td>Farley</td>\n",
       "      <td>Male</td>\n",
       "      <td>Idaho</td>\n",
       "      <td>35</td>\n",
       "      <td>1/1/2017</td>\n",
       "      <td>2</td>\n",
       "      <td>married</td>\n",
       "      <td>99568</td>\n",
       "    </tr>\n",
       "    <tr>\n",
       "      <th>3</th>\n",
       "      <td>125935</td>\n",
       "      <td>Michelle</td>\n",
       "      <td>Hicks</td>\n",
       "      <td>Female</td>\n",
       "      <td>Iowa</td>\n",
       "      <td>40</td>\n",
       "      <td>1/1/2017</td>\n",
       "      <td>0</td>\n",
       "      <td>single</td>\n",
       "      <td>42049</td>\n",
       "    </tr>\n",
       "    <tr>\n",
       "      <th>4</th>\n",
       "      <td>130797</td>\n",
       "      <td>Ann</td>\n",
       "      <td>Gilmore</td>\n",
       "      <td>Female</td>\n",
       "      <td>Maryland</td>\n",
       "      <td>26</td>\n",
       "      <td>1/1/2017</td>\n",
       "      <td>1</td>\n",
       "      <td>married</td>\n",
       "      <td>40374</td>\n",
       "    </tr>\n",
       "  </tbody>\n",
       "</table>\n",
       "</div>"
      ],
      "text/plain": [
       "   user_id First Name    Surnam  Gender       STATE  Age date_joined  \\\n",
       "0    26711    Deborah  Esquivel  Female    Missouri   48    1/1/2017   \n",
       "1    33890   Patricia      Hart  Female  New Mexico   36    1/1/2017   \n",
       "2    65803    Kenneth    Farley    Male       Idaho   35    1/1/2017   \n",
       "3   125935   Michelle     Hicks  Female        Iowa   40    1/1/2017   \n",
       "4   130797        Ann   Gilmore  Female    Maryland   26    1/1/2017   \n",
       "\n",
       "   n_dependants fam_status  income  \n",
       "0             3    married  165665  \n",
       "1             0     single   59285  \n",
       "2             2    married   99568  \n",
       "3             0     single   42049  \n",
       "4             1    married   40374  "
      ]
     },
     "execution_count": 5,
     "metadata": {},
     "output_type": "execute_result"
    }
   ],
   "source": [
    "df_customers.head()"
   ]
  },
  {
   "cell_type": "markdown",
   "id": "51dcf6af",
   "metadata": {},
   "source": [
    "## 3. Data Wrangling"
   ]
  },
  {
   "cell_type": "markdown",
   "id": "7a37ab0a",
   "metadata": {},
   "source": [
    "### Missing values count"
   ]
  },
  {
   "cell_type": "code",
   "execution_count": 6,
   "id": "a4f4d732",
   "metadata": {},
   "outputs": [
    {
     "data": {
      "text/plain": [
       "user_id             0\n",
       "First Name      11259\n",
       "Surnam              0\n",
       "Gender              0\n",
       "STATE               0\n",
       "Age                 0\n",
       "date_joined         0\n",
       "n_dependants        0\n",
       "fam_status          0\n",
       "income              0\n",
       "dtype: int64"
      ]
     },
     "execution_count": 6,
     "metadata": {},
     "output_type": "execute_result"
    }
   ],
   "source": [
    "# Check the customers' dataset for any missing data.\n",
    "\n",
    "df_customers.isnull().sum()"
   ]
  },
  {
   "cell_type": "markdown",
   "id": "d13d99b2",
   "metadata": {},
   "source": [
    "There are 11259 rows where the first name is missing"
   ]
  },
  {
   "cell_type": "markdown",
   "id": "3cd7b3ab",
   "metadata": {},
   "source": [
    "### Renaming"
   ]
  },
  {
   "cell_type": "code",
   "execution_count": 7,
   "id": "22f1a2c4",
   "metadata": {},
   "outputs": [],
   "source": [
    "# Changing the names of the columns to make it easier to understand the variable\n",
    "\n",
    "df_customers.rename(columns = {'First Name' : 'first_name', 'Surnam' : 'last_name', 'Gender' : 'gender', \n",
    "                        'STATE' : 'state', 'Age' : 'age', 'n_dependants' : 'number_dependents'}, inplace = True)"
   ]
  },
  {
   "cell_type": "code",
   "execution_count": 8,
   "id": "0b8cccdf",
   "metadata": {},
   "outputs": [
    {
     "data": {
      "text/html": [
       "<div>\n",
       "<style scoped>\n",
       "    .dataframe tbody tr th:only-of-type {\n",
       "        vertical-align: middle;\n",
       "    }\n",
       "\n",
       "    .dataframe tbody tr th {\n",
       "        vertical-align: top;\n",
       "    }\n",
       "\n",
       "    .dataframe thead th {\n",
       "        text-align: right;\n",
       "    }\n",
       "</style>\n",
       "<table border=\"1\" class=\"dataframe\">\n",
       "  <thead>\n",
       "    <tr style=\"text-align: right;\">\n",
       "      <th></th>\n",
       "      <th>user_id</th>\n",
       "      <th>first_name</th>\n",
       "      <th>last_name</th>\n",
       "      <th>gender</th>\n",
       "      <th>state</th>\n",
       "      <th>age</th>\n",
       "      <th>date_joined</th>\n",
       "      <th>number_dependents</th>\n",
       "      <th>fam_status</th>\n",
       "      <th>income</th>\n",
       "    </tr>\n",
       "  </thead>\n",
       "  <tbody>\n",
       "    <tr>\n",
       "      <th>0</th>\n",
       "      <td>26711</td>\n",
       "      <td>Deborah</td>\n",
       "      <td>Esquivel</td>\n",
       "      <td>Female</td>\n",
       "      <td>Missouri</td>\n",
       "      <td>48</td>\n",
       "      <td>1/1/2017</td>\n",
       "      <td>3</td>\n",
       "      <td>married</td>\n",
       "      <td>165665</td>\n",
       "    </tr>\n",
       "    <tr>\n",
       "      <th>1</th>\n",
       "      <td>33890</td>\n",
       "      <td>Patricia</td>\n",
       "      <td>Hart</td>\n",
       "      <td>Female</td>\n",
       "      <td>New Mexico</td>\n",
       "      <td>36</td>\n",
       "      <td>1/1/2017</td>\n",
       "      <td>0</td>\n",
       "      <td>single</td>\n",
       "      <td>59285</td>\n",
       "    </tr>\n",
       "    <tr>\n",
       "      <th>2</th>\n",
       "      <td>65803</td>\n",
       "      <td>Kenneth</td>\n",
       "      <td>Farley</td>\n",
       "      <td>Male</td>\n",
       "      <td>Idaho</td>\n",
       "      <td>35</td>\n",
       "      <td>1/1/2017</td>\n",
       "      <td>2</td>\n",
       "      <td>married</td>\n",
       "      <td>99568</td>\n",
       "    </tr>\n",
       "    <tr>\n",
       "      <th>3</th>\n",
       "      <td>125935</td>\n",
       "      <td>Michelle</td>\n",
       "      <td>Hicks</td>\n",
       "      <td>Female</td>\n",
       "      <td>Iowa</td>\n",
       "      <td>40</td>\n",
       "      <td>1/1/2017</td>\n",
       "      <td>0</td>\n",
       "      <td>single</td>\n",
       "      <td>42049</td>\n",
       "    </tr>\n",
       "    <tr>\n",
       "      <th>4</th>\n",
       "      <td>130797</td>\n",
       "      <td>Ann</td>\n",
       "      <td>Gilmore</td>\n",
       "      <td>Female</td>\n",
       "      <td>Maryland</td>\n",
       "      <td>26</td>\n",
       "      <td>1/1/2017</td>\n",
       "      <td>1</td>\n",
       "      <td>married</td>\n",
       "      <td>40374</td>\n",
       "    </tr>\n",
       "  </tbody>\n",
       "</table>\n",
       "</div>"
      ],
      "text/plain": [
       "   user_id first_name last_name  gender       state  age date_joined  \\\n",
       "0    26711    Deborah  Esquivel  Female    Missouri   48    1/1/2017   \n",
       "1    33890   Patricia      Hart  Female  New Mexico   36    1/1/2017   \n",
       "2    65803    Kenneth    Farley    Male       Idaho   35    1/1/2017   \n",
       "3   125935   Michelle     Hicks  Female        Iowa   40    1/1/2017   \n",
       "4   130797        Ann   Gilmore  Female    Maryland   26    1/1/2017   \n",
       "\n",
       "   number_dependents fam_status  income  \n",
       "0                  3    married  165665  \n",
       "1                  0     single   59285  \n",
       "2                  2    married   99568  \n",
       "3                  0     single   42049  \n",
       "4                  1    married   40374  "
      ]
     },
     "execution_count": 8,
     "metadata": {},
     "output_type": "execute_result"
    }
   ],
   "source": [
    "df_customers.head()"
   ]
  },
  {
   "cell_type": "markdown",
   "id": "2de3af35",
   "metadata": {},
   "source": [
    "### Changing data types"
   ]
  },
  {
   "cell_type": "code",
   "execution_count": 9,
   "id": "088f63c1",
   "metadata": {},
   "outputs": [
    {
     "data": {
      "text/plain": [
       "dtype('int64')"
      ]
     },
     "execution_count": 9,
     "metadata": {},
     "output_type": "execute_result"
    }
   ],
   "source": [
    "# Checking the column type 'user id'\n",
    "\n",
    "df_customers['user_id'].dtype"
   ]
  },
  {
   "cell_type": "code",
   "execution_count": 10,
   "id": "7655e250",
   "metadata": {},
   "outputs": [],
   "source": [
    "# Changing the data type of a variable\n",
    "\n",
    "df_customers['user_id'] = df_customers['user_id'].astype('str')"
   ]
  },
  {
   "cell_type": "code",
   "execution_count": 11,
   "id": "1d83b61c",
   "metadata": {},
   "outputs": [
    {
     "data": {
      "text/plain": [
       "dtype('O')"
      ]
     },
     "execution_count": 11,
     "metadata": {},
     "output_type": "execute_result"
    }
   ],
   "source": [
    "df_customers['user_id'].dtype"
   ]
  },
  {
   "cell_type": "markdown",
   "id": "6e61505f",
   "metadata": {},
   "source": [
    "## 4. Data Consistency Checks"
   ]
  },
  {
   "cell_type": "code",
   "execution_count": 12,
   "id": "6c97aa93",
   "metadata": {},
   "outputs": [
    {
     "data": {
      "text/html": [
       "<div>\n",
       "<style scoped>\n",
       "    .dataframe tbody tr th:only-of-type {\n",
       "        vertical-align: middle;\n",
       "    }\n",
       "\n",
       "    .dataframe tbody tr th {\n",
       "        vertical-align: top;\n",
       "    }\n",
       "\n",
       "    .dataframe thead th {\n",
       "        text-align: right;\n",
       "    }\n",
       "</style>\n",
       "<table border=\"1\" class=\"dataframe\">\n",
       "  <thead>\n",
       "    <tr style=\"text-align: right;\">\n",
       "      <th></th>\n",
       "      <th>age</th>\n",
       "      <th>number_dependents</th>\n",
       "      <th>income</th>\n",
       "    </tr>\n",
       "  </thead>\n",
       "  <tbody>\n",
       "    <tr>\n",
       "      <th>count</th>\n",
       "      <td>206209.000000</td>\n",
       "      <td>206209.000000</td>\n",
       "      <td>206209.000000</td>\n",
       "    </tr>\n",
       "    <tr>\n",
       "      <th>mean</th>\n",
       "      <td>49.501646</td>\n",
       "      <td>1.499823</td>\n",
       "      <td>94632.852548</td>\n",
       "    </tr>\n",
       "    <tr>\n",
       "      <th>std</th>\n",
       "      <td>18.480962</td>\n",
       "      <td>1.118433</td>\n",
       "      <td>42473.786988</td>\n",
       "    </tr>\n",
       "    <tr>\n",
       "      <th>min</th>\n",
       "      <td>18.000000</td>\n",
       "      <td>0.000000</td>\n",
       "      <td>25903.000000</td>\n",
       "    </tr>\n",
       "    <tr>\n",
       "      <th>25%</th>\n",
       "      <td>33.000000</td>\n",
       "      <td>0.000000</td>\n",
       "      <td>59874.000000</td>\n",
       "    </tr>\n",
       "    <tr>\n",
       "      <th>50%</th>\n",
       "      <td>49.000000</td>\n",
       "      <td>1.000000</td>\n",
       "      <td>93547.000000</td>\n",
       "    </tr>\n",
       "    <tr>\n",
       "      <th>75%</th>\n",
       "      <td>66.000000</td>\n",
       "      <td>3.000000</td>\n",
       "      <td>124244.000000</td>\n",
       "    </tr>\n",
       "    <tr>\n",
       "      <th>max</th>\n",
       "      <td>81.000000</td>\n",
       "      <td>3.000000</td>\n",
       "      <td>593901.000000</td>\n",
       "    </tr>\n",
       "  </tbody>\n",
       "</table>\n",
       "</div>"
      ],
      "text/plain": [
       "                 age  number_dependents         income\n",
       "count  206209.000000      206209.000000  206209.000000\n",
       "mean       49.501646           1.499823   94632.852548\n",
       "std        18.480962           1.118433   42473.786988\n",
       "min        18.000000           0.000000   25903.000000\n",
       "25%        33.000000           0.000000   59874.000000\n",
       "50%        49.000000           1.000000   93547.000000\n",
       "75%        66.000000           3.000000  124244.000000\n",
       "max        81.000000           3.000000  593901.000000"
      ]
     },
     "execution_count": 12,
     "metadata": {},
     "output_type": "execute_result"
    }
   ],
   "source": [
    "# Data Consistency Checks df_customers dataframe\n",
    "\n",
    "df_customers.describe()"
   ]
  },
  {
   "cell_type": "markdown",
   "id": "e9aa5687",
   "metadata": {},
   "source": [
    "### Check for mixed-type data "
   ]
  },
  {
   "cell_type": "code",
   "execution_count": 13,
   "id": "c95844cc",
   "metadata": {},
   "outputs": [
    {
     "name": "stdout",
     "output_type": "stream",
     "text": [
      "user_id  consistent\n",
      "first_name  mixed\n",
      "last_name  consistent\n",
      "gender  consistent\n",
      "state  consistent\n",
      "age  consistent\n",
      "date_joined  consistent\n",
      "number_dependents  consistent\n",
      "fam_status  consistent\n",
      "income  consistent\n"
     ]
    }
   ],
   "source": [
    "# Check for mixed-type data in your df_customers dataframe\n",
    "\n",
    "for col in df_customers.columns.tolist():\n",
    "  weird = (df_customers[[col]].applymap(type) != df_customers[[col]].iloc[0].apply(type)).any(axis = 1)\n",
    "  if len (df_customers[weird]) > 0:\n",
    "        print (col, ' mixed')\n",
    "  else: print(col, ' consistent')"
   ]
  },
  {
   "cell_type": "markdown",
   "id": "665119dd",
   "metadata": {},
   "source": [
    "first_name column has mixed-type data "
   ]
  },
  {
   "cell_type": "code",
   "execution_count": 14,
   "id": "4a38f887",
   "metadata": {},
   "outputs": [],
   "source": [
    "# Changing column type to str\n",
    "\n",
    "df_customers['first_name'] = df_customers['first_name'].astype('str')"
   ]
  },
  {
   "cell_type": "code",
   "execution_count": 15,
   "id": "6b15c46f",
   "metadata": {},
   "outputs": [
    {
     "data": {
      "text/plain": [
       "dtype('O')"
      ]
     },
     "execution_count": 15,
     "metadata": {},
     "output_type": "execute_result"
    }
   ],
   "source": [
    "df_customers['first_name'].dtype"
   ]
  },
  {
   "cell_type": "markdown",
   "id": "4be70974",
   "metadata": {},
   "source": [
    "### Check for duplicate values"
   ]
  },
  {
   "cell_type": "code",
   "execution_count": 16,
   "id": "99ac9580",
   "metadata": {},
   "outputs": [],
   "source": [
    "# Run a check for duplicate values in your df_customers data\n",
    "\n",
    "df_customers_dups = df_customers[df_customers.duplicated()]"
   ]
  },
  {
   "cell_type": "code",
   "execution_count": 17,
   "id": "3697cfcd",
   "metadata": {},
   "outputs": [
    {
     "data": {
      "text/plain": [
       "0"
      ]
     },
     "execution_count": 17,
     "metadata": {},
     "output_type": "execute_result"
    }
   ],
   "source": [
    "df_customers_dups.size"
   ]
  },
  {
   "cell_type": "markdown",
   "id": "646e9e3f",
   "metadata": {},
   "source": [
    "The customer dataset has no duplicate values."
   ]
  },
  {
   "cell_type": "markdown",
   "id": "4f77dcc9",
   "metadata": {},
   "source": [
    "## 5. Merging datasets"
   ]
  },
  {
   "cell_type": "markdown",
   "id": "dbd81cd5",
   "metadata": {},
   "source": [
    "### Import the orders_products_merged_updated_2"
   ]
  },
  {
   "cell_type": "code",
   "execution_count": 18,
   "id": "3e037cc1",
   "metadata": {},
   "outputs": [],
   "source": [
    "df_ords_prods_merged = pd.read_pickle(os.path.join(path, '02_Data','Prepared_Data', 'orders_products_merged_updated_2.pkl'))"
   ]
  },
  {
   "cell_type": "code",
   "execution_count": 19,
   "id": "141fe063",
   "metadata": {},
   "outputs": [
    {
     "data": {
      "text/html": [
       "<div>\n",
       "<style scoped>\n",
       "    .dataframe tbody tr th:only-of-type {\n",
       "        vertical-align: middle;\n",
       "    }\n",
       "\n",
       "    .dataframe tbody tr th {\n",
       "        vertical-align: top;\n",
       "    }\n",
       "\n",
       "    .dataframe thead th {\n",
       "        text-align: right;\n",
       "    }\n",
       "</style>\n",
       "<table border=\"1\" class=\"dataframe\">\n",
       "  <thead>\n",
       "    <tr style=\"text-align: right;\">\n",
       "      <th></th>\n",
       "      <th>order_id</th>\n",
       "      <th>user_id</th>\n",
       "      <th>eval_set</th>\n",
       "      <th>order_number</th>\n",
       "      <th>orders_day_of_week</th>\n",
       "      <th>order_hour_of_day</th>\n",
       "      <th>days_since_prior_order</th>\n",
       "      <th>product_id</th>\n",
       "      <th>add_to_cart_order</th>\n",
       "      <th>reordered</th>\n",
       "      <th>...</th>\n",
       "      <th>price_range_loc</th>\n",
       "      <th>busiest_day</th>\n",
       "      <th>busiest_days</th>\n",
       "      <th>busiest_period_of_day</th>\n",
       "      <th>max_order</th>\n",
       "      <th>loyalty_flag</th>\n",
       "      <th>avg_price</th>\n",
       "      <th>spending_flag</th>\n",
       "      <th>median_prior_orders</th>\n",
       "      <th>order_frequency_flag</th>\n",
       "    </tr>\n",
       "  </thead>\n",
       "  <tbody>\n",
       "    <tr>\n",
       "      <th>0</th>\n",
       "      <td>2539329</td>\n",
       "      <td>1</td>\n",
       "      <td>prior</td>\n",
       "      <td>1</td>\n",
       "      <td>2</td>\n",
       "      <td>8</td>\n",
       "      <td>NaN</td>\n",
       "      <td>196</td>\n",
       "      <td>1</td>\n",
       "      <td>0</td>\n",
       "      <td>...</td>\n",
       "      <td>Mid-range product</td>\n",
       "      <td>Regularly busy</td>\n",
       "      <td>Regularly days</td>\n",
       "      <td>Average orders</td>\n",
       "      <td>10</td>\n",
       "      <td>New customer</td>\n",
       "      <td>14.0</td>\n",
       "      <td>High spender</td>\n",
       "      <td>20.5</td>\n",
       "      <td>Non-frequent customer</td>\n",
       "    </tr>\n",
       "    <tr>\n",
       "      <th>1</th>\n",
       "      <td>2398795</td>\n",
       "      <td>1</td>\n",
       "      <td>prior</td>\n",
       "      <td>2</td>\n",
       "      <td>3</td>\n",
       "      <td>7</td>\n",
       "      <td>15.0</td>\n",
       "      <td>196</td>\n",
       "      <td>1</td>\n",
       "      <td>1</td>\n",
       "      <td>...</td>\n",
       "      <td>Mid-range product</td>\n",
       "      <td>Regularly busy</td>\n",
       "      <td>Slowest days</td>\n",
       "      <td>Average orders</td>\n",
       "      <td>10</td>\n",
       "      <td>New customer</td>\n",
       "      <td>14.0</td>\n",
       "      <td>High spender</td>\n",
       "      <td>20.5</td>\n",
       "      <td>Non-frequent customer</td>\n",
       "    </tr>\n",
       "    <tr>\n",
       "      <th>2</th>\n",
       "      <td>473747</td>\n",
       "      <td>1</td>\n",
       "      <td>prior</td>\n",
       "      <td>3</td>\n",
       "      <td>3</td>\n",
       "      <td>12</td>\n",
       "      <td>21.0</td>\n",
       "      <td>196</td>\n",
       "      <td>1</td>\n",
       "      <td>1</td>\n",
       "      <td>...</td>\n",
       "      <td>Mid-range product</td>\n",
       "      <td>Regularly busy</td>\n",
       "      <td>Slowest days</td>\n",
       "      <td>Most orders</td>\n",
       "      <td>10</td>\n",
       "      <td>New customer</td>\n",
       "      <td>14.0</td>\n",
       "      <td>High spender</td>\n",
       "      <td>20.5</td>\n",
       "      <td>Non-frequent customer</td>\n",
       "    </tr>\n",
       "    <tr>\n",
       "      <th>3</th>\n",
       "      <td>2254736</td>\n",
       "      <td>1</td>\n",
       "      <td>prior</td>\n",
       "      <td>4</td>\n",
       "      <td>4</td>\n",
       "      <td>7</td>\n",
       "      <td>29.0</td>\n",
       "      <td>196</td>\n",
       "      <td>1</td>\n",
       "      <td>1</td>\n",
       "      <td>...</td>\n",
       "      <td>Mid-range product</td>\n",
       "      <td>Least busy</td>\n",
       "      <td>Slowest days</td>\n",
       "      <td>Average orders</td>\n",
       "      <td>10</td>\n",
       "      <td>New customer</td>\n",
       "      <td>14.0</td>\n",
       "      <td>High spender</td>\n",
       "      <td>20.5</td>\n",
       "      <td>Non-frequent customer</td>\n",
       "    </tr>\n",
       "    <tr>\n",
       "      <th>4</th>\n",
       "      <td>431534</td>\n",
       "      <td>1</td>\n",
       "      <td>prior</td>\n",
       "      <td>5</td>\n",
       "      <td>4</td>\n",
       "      <td>15</td>\n",
       "      <td>28.0</td>\n",
       "      <td>196</td>\n",
       "      <td>1</td>\n",
       "      <td>1</td>\n",
       "      <td>...</td>\n",
       "      <td>Mid-range product</td>\n",
       "      <td>Least busy</td>\n",
       "      <td>Slowest days</td>\n",
       "      <td>Most orders</td>\n",
       "      <td>10</td>\n",
       "      <td>New customer</td>\n",
       "      <td>14.0</td>\n",
       "      <td>High spender</td>\n",
       "      <td>20.5</td>\n",
       "      <td>Non-frequent customer</td>\n",
       "    </tr>\n",
       "  </tbody>\n",
       "</table>\n",
       "<p>5 rows × 26 columns</p>\n",
       "</div>"
      ],
      "text/plain": [
       "   order_id  user_id eval_set  order_number  orders_day_of_week  \\\n",
       "0   2539329        1    prior             1                   2   \n",
       "1   2398795        1    prior             2                   3   \n",
       "2    473747        1    prior             3                   3   \n",
       "3   2254736        1    prior             4                   4   \n",
       "4    431534        1    prior             5                   4   \n",
       "\n",
       "   order_hour_of_day  days_since_prior_order  product_id  add_to_cart_order  \\\n",
       "0                  8                     NaN         196                  1   \n",
       "1                  7                    15.0         196                  1   \n",
       "2                 12                    21.0         196                  1   \n",
       "3                  7                    29.0         196                  1   \n",
       "4                 15                    28.0         196                  1   \n",
       "\n",
       "   reordered  ...    price_range_loc     busiest_day    busiest_days  \\\n",
       "0          0  ...  Mid-range product  Regularly busy  Regularly days   \n",
       "1          1  ...  Mid-range product  Regularly busy    Slowest days   \n",
       "2          1  ...  Mid-range product  Regularly busy    Slowest days   \n",
       "3          1  ...  Mid-range product      Least busy    Slowest days   \n",
       "4          1  ...  Mid-range product      Least busy    Slowest days   \n",
       "\n",
       "   busiest_period_of_day  max_order  loyalty_flag avg_price spending_flag  \\\n",
       "0         Average orders         10  New customer      14.0  High spender   \n",
       "1         Average orders         10  New customer      14.0  High spender   \n",
       "2            Most orders         10  New customer      14.0  High spender   \n",
       "3         Average orders         10  New customer      14.0  High spender   \n",
       "4            Most orders         10  New customer      14.0  High spender   \n",
       "\n",
       "  median_prior_orders   order_frequency_flag  \n",
       "0                20.5  Non-frequent customer  \n",
       "1                20.5  Non-frequent customer  \n",
       "2                20.5  Non-frequent customer  \n",
       "3                20.5  Non-frequent customer  \n",
       "4                20.5  Non-frequent customer  \n",
       "\n",
       "[5 rows x 26 columns]"
      ]
     },
     "execution_count": 19,
     "metadata": {},
     "output_type": "execute_result"
    }
   ],
   "source": [
    "df_ords_prods_merged.head()"
   ]
  },
  {
   "cell_type": "code",
   "execution_count": 20,
   "id": "83e3fc82",
   "metadata": {},
   "outputs": [],
   "source": [
    "df_ords_prods_merged = df_ords_prods_merged.drop(columns = ['eval_set'])"
   ]
  },
  {
   "cell_type": "code",
   "execution_count": 21,
   "id": "893966b0",
   "metadata": {},
   "outputs": [
    {
     "data": {
      "text/plain": [
       "(32404859, 25)"
      ]
     },
     "execution_count": 21,
     "metadata": {},
     "output_type": "execute_result"
    }
   ],
   "source": [
    "df_ords_prods_merged.shape"
   ]
  },
  {
   "cell_type": "code",
   "execution_count": 22,
   "id": "110fc91b",
   "metadata": {},
   "outputs": [],
   "source": [
    "# Changing column type to str\n",
    "\n",
    "\n",
    "df_ords_prods_merged['user_id'] = df_ords_prods_merged['user_id'].astype('str')"
   ]
  },
  {
   "cell_type": "code",
   "execution_count": 23,
   "id": "3e4412db",
   "metadata": {},
   "outputs": [
    {
     "data": {
      "text/plain": [
       "dtype('O')"
      ]
     },
     "execution_count": 23,
     "metadata": {},
     "output_type": "execute_result"
    }
   ],
   "source": [
    "df_ords_prods_merged['user_id'].dtype"
   ]
  },
  {
   "cell_type": "code",
   "execution_count": 24,
   "id": "0f8563c6",
   "metadata": {},
   "outputs": [],
   "source": [
    "df_ords_prods_custs = df_ords_prods_merged.merge(df_customers, on = 'user_id')"
   ]
  },
  {
   "cell_type": "code",
   "execution_count": 25,
   "id": "d02b4487",
   "metadata": {
    "scrolled": true
   },
   "outputs": [
    {
     "data": {
      "text/html": [
       "<div>\n",
       "<style scoped>\n",
       "    .dataframe tbody tr th:only-of-type {\n",
       "        vertical-align: middle;\n",
       "    }\n",
       "\n",
       "    .dataframe tbody tr th {\n",
       "        vertical-align: top;\n",
       "    }\n",
       "\n",
       "    .dataframe thead th {\n",
       "        text-align: right;\n",
       "    }\n",
       "</style>\n",
       "<table border=\"1\" class=\"dataframe\">\n",
       "  <thead>\n",
       "    <tr style=\"text-align: right;\">\n",
       "      <th></th>\n",
       "      <th>order_id</th>\n",
       "      <th>user_id</th>\n",
       "      <th>order_number</th>\n",
       "      <th>orders_day_of_week</th>\n",
       "      <th>order_hour_of_day</th>\n",
       "      <th>days_since_prior_order</th>\n",
       "      <th>product_id</th>\n",
       "      <th>add_to_cart_order</th>\n",
       "      <th>reordered</th>\n",
       "      <th>Unnamed: 0</th>\n",
       "      <th>...</th>\n",
       "      <th>order_frequency_flag</th>\n",
       "      <th>first_name</th>\n",
       "      <th>last_name</th>\n",
       "      <th>gender</th>\n",
       "      <th>state</th>\n",
       "      <th>age</th>\n",
       "      <th>date_joined</th>\n",
       "      <th>number_dependents</th>\n",
       "      <th>fam_status</th>\n",
       "      <th>income</th>\n",
       "    </tr>\n",
       "  </thead>\n",
       "  <tbody>\n",
       "    <tr>\n",
       "      <th>0</th>\n",
       "      <td>2539329</td>\n",
       "      <td>1</td>\n",
       "      <td>1</td>\n",
       "      <td>2</td>\n",
       "      <td>8</td>\n",
       "      <td>NaN</td>\n",
       "      <td>196</td>\n",
       "      <td>1</td>\n",
       "      <td>0</td>\n",
       "      <td>195</td>\n",
       "      <td>...</td>\n",
       "      <td>Non-frequent customer</td>\n",
       "      <td>Linda</td>\n",
       "      <td>Nguyen</td>\n",
       "      <td>Female</td>\n",
       "      <td>Alabama</td>\n",
       "      <td>31</td>\n",
       "      <td>2/17/2019</td>\n",
       "      <td>3</td>\n",
       "      <td>married</td>\n",
       "      <td>40423</td>\n",
       "    </tr>\n",
       "    <tr>\n",
       "      <th>1</th>\n",
       "      <td>2398795</td>\n",
       "      <td>1</td>\n",
       "      <td>2</td>\n",
       "      <td>3</td>\n",
       "      <td>7</td>\n",
       "      <td>15.0</td>\n",
       "      <td>196</td>\n",
       "      <td>1</td>\n",
       "      <td>1</td>\n",
       "      <td>195</td>\n",
       "      <td>...</td>\n",
       "      <td>Non-frequent customer</td>\n",
       "      <td>Linda</td>\n",
       "      <td>Nguyen</td>\n",
       "      <td>Female</td>\n",
       "      <td>Alabama</td>\n",
       "      <td>31</td>\n",
       "      <td>2/17/2019</td>\n",
       "      <td>3</td>\n",
       "      <td>married</td>\n",
       "      <td>40423</td>\n",
       "    </tr>\n",
       "    <tr>\n",
       "      <th>2</th>\n",
       "      <td>473747</td>\n",
       "      <td>1</td>\n",
       "      <td>3</td>\n",
       "      <td>3</td>\n",
       "      <td>12</td>\n",
       "      <td>21.0</td>\n",
       "      <td>196</td>\n",
       "      <td>1</td>\n",
       "      <td>1</td>\n",
       "      <td>195</td>\n",
       "      <td>...</td>\n",
       "      <td>Non-frequent customer</td>\n",
       "      <td>Linda</td>\n",
       "      <td>Nguyen</td>\n",
       "      <td>Female</td>\n",
       "      <td>Alabama</td>\n",
       "      <td>31</td>\n",
       "      <td>2/17/2019</td>\n",
       "      <td>3</td>\n",
       "      <td>married</td>\n",
       "      <td>40423</td>\n",
       "    </tr>\n",
       "    <tr>\n",
       "      <th>3</th>\n",
       "      <td>2254736</td>\n",
       "      <td>1</td>\n",
       "      <td>4</td>\n",
       "      <td>4</td>\n",
       "      <td>7</td>\n",
       "      <td>29.0</td>\n",
       "      <td>196</td>\n",
       "      <td>1</td>\n",
       "      <td>1</td>\n",
       "      <td>195</td>\n",
       "      <td>...</td>\n",
       "      <td>Non-frequent customer</td>\n",
       "      <td>Linda</td>\n",
       "      <td>Nguyen</td>\n",
       "      <td>Female</td>\n",
       "      <td>Alabama</td>\n",
       "      <td>31</td>\n",
       "      <td>2/17/2019</td>\n",
       "      <td>3</td>\n",
       "      <td>married</td>\n",
       "      <td>40423</td>\n",
       "    </tr>\n",
       "    <tr>\n",
       "      <th>4</th>\n",
       "      <td>431534</td>\n",
       "      <td>1</td>\n",
       "      <td>5</td>\n",
       "      <td>4</td>\n",
       "      <td>15</td>\n",
       "      <td>28.0</td>\n",
       "      <td>196</td>\n",
       "      <td>1</td>\n",
       "      <td>1</td>\n",
       "      <td>195</td>\n",
       "      <td>...</td>\n",
       "      <td>Non-frequent customer</td>\n",
       "      <td>Linda</td>\n",
       "      <td>Nguyen</td>\n",
       "      <td>Female</td>\n",
       "      <td>Alabama</td>\n",
       "      <td>31</td>\n",
       "      <td>2/17/2019</td>\n",
       "      <td>3</td>\n",
       "      <td>married</td>\n",
       "      <td>40423</td>\n",
       "    </tr>\n",
       "  </tbody>\n",
       "</table>\n",
       "<p>5 rows × 34 columns</p>\n",
       "</div>"
      ],
      "text/plain": [
       "   order_id user_id  order_number  orders_day_of_week  order_hour_of_day  \\\n",
       "0   2539329       1             1                   2                  8   \n",
       "1   2398795       1             2                   3                  7   \n",
       "2    473747       1             3                   3                 12   \n",
       "3   2254736       1             4                   4                  7   \n",
       "4    431534       1             5                   4                 15   \n",
       "\n",
       "   days_since_prior_order  product_id  add_to_cart_order  reordered  \\\n",
       "0                     NaN         196                  1          0   \n",
       "1                    15.0         196                  1          1   \n",
       "2                    21.0         196                  1          1   \n",
       "3                    29.0         196                  1          1   \n",
       "4                    28.0         196                  1          1   \n",
       "\n",
       "   Unnamed: 0  ...   order_frequency_flag  first_name  last_name  gender  \\\n",
       "0         195  ...  Non-frequent customer       Linda     Nguyen  Female   \n",
       "1         195  ...  Non-frequent customer       Linda     Nguyen  Female   \n",
       "2         195  ...  Non-frequent customer       Linda     Nguyen  Female   \n",
       "3         195  ...  Non-frequent customer       Linda     Nguyen  Female   \n",
       "4         195  ...  Non-frequent customer       Linda     Nguyen  Female   \n",
       "\n",
       "     state age date_joined number_dependents fam_status  income  \n",
       "0  Alabama  31   2/17/2019                 3    married   40423  \n",
       "1  Alabama  31   2/17/2019                 3    married   40423  \n",
       "2  Alabama  31   2/17/2019                 3    married   40423  \n",
       "3  Alabama  31   2/17/2019                 3    married   40423  \n",
       "4  Alabama  31   2/17/2019                 3    married   40423  \n",
       "\n",
       "[5 rows x 34 columns]"
      ]
     },
     "execution_count": 25,
     "metadata": {},
     "output_type": "execute_result"
    }
   ],
   "source": [
    "df_ords_prods_custs.head()"
   ]
  },
  {
   "cell_type": "code",
   "execution_count": 26,
   "id": "19f188a9",
   "metadata": {},
   "outputs": [
    {
     "data": {
      "text/plain": [
       "(32404859, 34)"
      ]
     },
     "execution_count": 26,
     "metadata": {},
     "output_type": "execute_result"
    }
   ],
   "source": [
    "# checking if the merge function worked successfully\n",
    "\n",
    "df_ords_prods_custs.shape"
   ]
  },
  {
   "cell_type": "markdown",
   "id": "4a53bc10",
   "metadata": {},
   "source": [
    "## 6. Export this new dataframe"
   ]
  },
  {
   "cell_type": "code",
   "execution_count": 27,
   "id": "59a74ec6",
   "metadata": {},
   "outputs": [],
   "source": [
    "df_ords_prods_custs.to_pickle(os.path.join(path, '02_Data','Prepared_Data', 'df_ords_prods_custs.pkl'))"
   ]
  }
 ],
 "metadata": {
  "kernelspec": {
   "display_name": "Python 3 (ipykernel)",
   "language": "python",
   "name": "python3"
  },
  "language_info": {
   "codemirror_mode": {
    "name": "ipython",
    "version": 3
   },
   "file_extension": ".py",
   "mimetype": "text/x-python",
   "name": "python",
   "nbconvert_exporter": "python",
   "pygments_lexer": "ipython3",
   "version": "3.9.13"
  }
 },
 "nbformat": 4,
 "nbformat_minor": 5
}
