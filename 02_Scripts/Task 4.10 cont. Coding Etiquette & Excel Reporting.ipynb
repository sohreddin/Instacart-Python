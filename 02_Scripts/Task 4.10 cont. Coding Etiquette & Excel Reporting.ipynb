{
 "cells": [
  {
   "cell_type": "markdown",
   "id": "7dd0e07c",
   "metadata": {},
   "source": [
    "# 4.10 Coding Etiquette & Excel Reporting"
   ]
  },
  {
   "cell_type": "markdown",
   "id": "dbcb0898",
   "metadata": {},
   "source": [
    "## This script contains the following points:\n",
    "** **\n",
    "\n",
    "5. Customer profiling\n",
    "\n",
    "  * 5.1 Market segmentation by demographics\n",
    "         \n",
    "     * 5.1.1 Age segmentation of Instacart customers\n",
    "     * 5.1.2 Income-based segmentation of IC customers\n",
    "     * 5.1.3 Segmentation based on the number of dependents and relationship of IC customers\n",
    "     * 5.1.4 Segmentation by department \n",
    "        \n",
    "        \n",
    "  * 5.2 Market segmentation based on behavior\n",
    "    \n",
    "      * 5.2.1 Snacks eater\n",
    "      * 5.2.2 Customers that do not use alcohol\n",
    "      * 5.2.3 Customers who own pets\n",
    "      * 5.2.4 Vegetarian customers\n",
    "      * 5.2.5 Parents with babies\n",
    "      * 5.2.6 Early birds and night owls \n",
    "6. Customer profile visualization\n",
    "\n",
    "7. Customer profile aggregation for usage frequency and expenditure\n",
    "\n",
    "8. Customer profile comparison in regions and departments\n",
    "\n",
    "\n",
    "9. Exporting updated dataframes and charts\n",
    "    * 9.1 Exporting dataframes\n",
    "    * 9.2 Exporting charts\n",
    "    \n",
    "** **    "
   ]
  },
  {
   "cell_type": "code",
   "execution_count": 1,
   "id": "6853e691",
   "metadata": {},
   "outputs": [],
   "source": [
    "# Import Libraries \n",
    "\n",
    "import pandas as pd \n",
    "import numpy as np\n",
    "import os \n",
    "import matplotlib.pyplot as plt \n",
    "import seaborn as sns\n",
    "import scipy"
   ]
  },
  {
   "cell_type": "code",
   "execution_count": 2,
   "id": "fa4f1b98",
   "metadata": {},
   "outputs": [],
   "source": [
    "# Set a path\n",
    "\n",
    "path = r'/Users/berk/Instacart_Grocery_Basket_Analysis'"
   ]
  },
  {
   "cell_type": "code",
   "execution_count": 3,
   "id": "a1f94ca9",
   "metadata": {},
   "outputs": [],
   "source": [
    "# Import df_igh dataframe\n",
    "\n",
    "df_high = pd.read_pickle(os.path.join(path, '02_Data', 'Prepared_Data', 'high_activity_customers.pkl'))"
   ]
  },
  {
   "cell_type": "markdown",
   "id": "03284840",
   "metadata": {},
   "source": [
    "# 5. Customer profiling"
   ]
  },
  {
   "cell_type": "markdown",
   "id": "1e11b1a6",
   "metadata": {},
   "source": [
    "## 5.1 Market segmentation by demographics"
   ]
  },
  {
   "cell_type": "markdown",
   "id": "bb98e3c1",
   "metadata": {},
   "source": [
    "### 5.1.1 Age segmentation of Instacart customers"
   ]
  },
  {
   "cell_type": "markdown",
   "id": "6132da21",
   "metadata": {},
   "source": [
    "Given that the Instacart CFO is not interested in users who don't contribute significantly to the app's income, we will use the 'high activity customers' information to profile users."
   ]
  },
  {
   "cell_type": "code",
   "execution_count": 4,
   "id": "03fe060e",
   "metadata": {},
   "outputs": [],
   "source": [
    "# Start profiling high activity customers\n",
    "\n",
    "custs = df_high"
   ]
  },
  {
   "cell_type": "code",
   "execution_count": 5,
   "id": "4094c201",
   "metadata": {},
   "outputs": [
    {
     "data": {
      "text/plain": [
       "(30964564, 34)"
      ]
     },
     "execution_count": 5,
     "metadata": {},
     "output_type": "execute_result"
    }
   ],
   "source": [
    "custs.shape"
   ]
  },
  {
   "cell_type": "code",
   "execution_count": 6,
   "id": "b7b05089",
   "metadata": {},
   "outputs": [
    {
     "data": {
      "text/plain": [
       "count    3.096456e+07\n",
       "mean     4.946803e+01\n",
       "std      1.848528e+01\n",
       "min      1.800000e+01\n",
       "25%      3.300000e+01\n",
       "50%      4.900000e+01\n",
       "75%      6.500000e+01\n",
       "max      8.100000e+01\n",
       "Name: age, dtype: float64"
      ]
     },
     "execution_count": 6,
     "metadata": {},
     "output_type": "execute_result"
    }
   ],
   "source": [
    "# Check the descriptive statistics in the 'age' column\n",
    "\n",
    "custs['age'].describe()"
   ]
  },
  {
   "cell_type": "markdown",
   "id": "a80def80",
   "metadata": {},
   "source": [
    "The describe() function's output shows that the youngest age in the data is 18 and the oldest is 81.\n",
    "\n",
    "* Age categories will be classified as follows:\n",
    "     * Youth         18 - 39\n",
    "     * Middle Age    40 - 64\n",
    "     * Seniors   65+"
   ]
  },
  {
   "cell_type": "code",
   "execution_count": 7,
   "id": "0595c78c",
   "metadata": {},
   "outputs": [],
   "source": [
    "#Catching warning messages\n",
    "\n",
    "pd.options.mode.chained_assignment = None"
   ]
  },
  {
   "cell_type": "code",
   "execution_count": 8,
   "id": "62a05917",
   "metadata": {},
   "outputs": [
    {
     "data": {
      "text/plain": [
       "Middle age    12103910\n",
       "Youth         10665110\n",
       "Senior         8195544\n",
       "Name: age_category, dtype: int64"
      ]
     },
     "execution_count": 8,
     "metadata": {},
     "output_type": "execute_result"
    }
   ],
   "source": [
    "# Create an age_category column\n",
    "\n",
    "custs.loc[(custs['age'] >= 18) & (custs['age'] < 40), 'age_category'] = 'Youth'\n",
    "custs.loc[(custs['age'] >= 40) & (custs['age'] < 65), 'age_category'] = 'Middle age'\n",
    "custs.loc[custs['age'] >= 65, 'age_category'] = 'Senior'\n",
    "custs['age_category'].value_counts()"
   ]
  },
  {
   "cell_type": "code",
   "execution_count": 9,
   "id": "6092bccb",
   "metadata": {},
   "outputs": [
    {
     "data": {
      "text/plain": [
       "(30964564, 35)"
      ]
     },
     "execution_count": 9,
     "metadata": {},
     "output_type": "execute_result"
    }
   ],
   "source": [
    "# Check for the new column in the 'custs' dataset.\n",
    "\n",
    "custs.shape"
   ]
  },
  {
   "cell_type": "markdown",
   "id": "f68dedc5",
   "metadata": {},
   "source": [
    "### 5.1.2 Income-based segmentation of IC customers"
   ]
  },
  {
   "cell_type": "code",
   "execution_count": 10,
   "id": "be33cf15",
   "metadata": {},
   "outputs": [
    {
     "data": {
      "text/plain": [
       "count    3.096456e+07\n",
       "mean     9.967587e+04\n",
       "std      4.314187e+04\n",
       "min      2.590300e+04\n",
       "25%      6.729200e+04\n",
       "50%      9.676500e+04\n",
       "75%      1.281020e+05\n",
       "max      5.939010e+05\n",
       "Name: income, dtype: float64"
      ]
     },
     "execution_count": 10,
     "metadata": {},
     "output_type": "execute_result"
    }
   ],
   "source": [
    "# Check the descriptive statistics in the 'income' column\n",
    "\n",
    "custs['income'].describe()"
   ]
  },
  {
   "cell_type": "markdown",
   "id": "f442b42e",
   "metadata": {},
   "source": [
    "The 'income' variable was analyzed using describe(), revealing a range of 25.9k USD to 593.9k USD reported by IC families. Income categories will be:\n",
    "\n",
    "* Low: < 70K USD\n",
    "* Middle: 70K - 100K USD\n",
    "* Upper Middle: 100K - 130K USD\n",
    "* High: > 130K USD.\n"
   ]
  },
  {
   "cell_type": "code",
   "execution_count": 11,
   "id": "e7f84430",
   "metadata": {},
   "outputs": [],
   "source": [
    "# Create an income_category column\n",
    "\n",
    "custs.loc[custs['income']< 70000, 'income_category'] = 'Low'\n",
    "custs.loc[(custs['income']>= 70000) & (custs['income']< 100000), 'income_category'] = 'Middle'\n",
    "custs.loc[(custs['income']>= 100000) & (custs['income']< 130000), 'income_category'] = 'Upper Middle'\n",
    "custs.loc[custs['income']>= 130000, 'income_category'] = 'High'"
   ]
  },
  {
   "cell_type": "code",
   "execution_count": 12,
   "id": "67500779",
   "metadata": {},
   "outputs": [
    {
     "data": {
      "text/plain": [
       "Low             8520533\n",
       "Middle          8236629\n",
       "High            7401414\n",
       "Upper Middle    6805988\n",
       "Name: income_category, dtype: int64"
      ]
     },
     "execution_count": 12,
     "metadata": {},
     "output_type": "execute_result"
    }
   ],
   "source": [
    "# Check income_category values\n",
    "\n",
    "custs['income_category'].value_counts(dropna = False)"
   ]
  },
  {
   "cell_type": "code",
   "execution_count": 13,
   "id": "3031cbb9",
   "metadata": {},
   "outputs": [
    {
     "data": {
      "text/plain": [
       "(30964564, 36)"
      ]
     },
     "execution_count": 13,
     "metadata": {},
     "output_type": "execute_result"
    }
   ],
   "source": [
    "# Check for the new column in the 'custs' dataset.\n",
    "\n",
    "custs.shape"
   ]
  },
  {
   "cell_type": "markdown",
   "id": "213af24f",
   "metadata": {},
   "source": [
    "### 5.1.3 Segmentation based on the number of dependents and relationship of IC customers"
   ]
  },
  {
   "cell_type": "code",
   "execution_count": 14,
   "id": "64963417",
   "metadata": {},
   "outputs": [
    {
     "data": {
      "text/plain": [
       "count    3.096456e+07\n",
       "mean     1.501819e+00\n",
       "std      1.118896e+00\n",
       "min      0.000000e+00\n",
       "25%      1.000000e+00\n",
       "50%      2.000000e+00\n",
       "75%      3.000000e+00\n",
       "max      3.000000e+00\n",
       "Name: number_dependents, dtype: float64"
      ]
     },
     "execution_count": 14,
     "metadata": {},
     "output_type": "execute_result"
    }
   ],
   "source": [
    "# Check the descriptive statistics in the 'number_dependents' column\n",
    "\n",
    "custs['number_dependents'].describe()"
   ]
  },
  {
   "cell_type": "markdown",
   "id": "2106a4e0",
   "metadata": {},
   "source": [
    "The describe() function shows that the range of 'number_dependents' is from 0 to 3. Family size will be:\n",
    "\n",
    "   * Small: 0\n",
    "   * Mid size: 1-2\n",
    "   * Large: 3"
   ]
  },
  {
   "cell_type": "code",
   "execution_count": 15,
   "id": "ef785564",
   "metadata": {},
   "outputs": [],
   "source": [
    "# Create a family_size column \n",
    "\n",
    "custs.loc[custs['number_dependents'] == 0, 'family_size'] = 'Small'\n",
    "custs.loc[(custs['number_dependents'] == 1) | (custs['number_dependents'] == 2), 'family_size'] = 'Mid size'\n",
    "custs.loc[custs['number_dependents'] > 2, 'family_size'] = 'Large'"
   ]
  },
  {
   "cell_type": "code",
   "execution_count": 16,
   "id": "f1d239ce",
   "metadata": {},
   "outputs": [
    {
     "data": {
      "text/plain": [
       "Mid size    15452367\n",
       "Large        7772516\n",
       "Small        7739681\n",
       "Name: family_size, dtype: int64"
      ]
     },
     "execution_count": 16,
     "metadata": {},
     "output_type": "execute_result"
    }
   ],
   "source": [
    "custs['family_size'].value_counts(dropna = False)"
   ]
  },
  {
   "cell_type": "code",
   "execution_count": 17,
   "id": "151b7a8b",
   "metadata": {},
   "outputs": [],
   "source": [
    "# Comparing family status with whether they have dependents\n",
    "\n",
    "family_crosstab = pd.crosstab(custs['fam_status'],custs['number_dependents'],dropna = False)"
   ]
  },
  {
   "cell_type": "code",
   "execution_count": 18,
   "id": "b8020c42",
   "metadata": {},
   "outputs": [
    {
     "data": {
      "text/html": [
       "<div>\n",
       "<style scoped>\n",
       "    .dataframe tbody tr th:only-of-type {\n",
       "        vertical-align: middle;\n",
       "    }\n",
       "\n",
       "    .dataframe tbody tr th {\n",
       "        vertical-align: top;\n",
       "    }\n",
       "\n",
       "    .dataframe thead th {\n",
       "        text-align: right;\n",
       "    }\n",
       "</style>\n",
       "<table border=\"1\" class=\"dataframe\">\n",
       "  <thead>\n",
       "    <tr style=\"text-align: right;\">\n",
       "      <th>number_dependents</th>\n",
       "      <th>0</th>\n",
       "      <th>1</th>\n",
       "      <th>2</th>\n",
       "      <th>3</th>\n",
       "    </tr>\n",
       "    <tr>\n",
       "      <th>fam_status</th>\n",
       "      <th></th>\n",
       "      <th></th>\n",
       "      <th></th>\n",
       "      <th></th>\n",
       "    </tr>\n",
       "  </thead>\n",
       "  <tbody>\n",
       "    <tr>\n",
       "      <th>divorced/widowed</th>\n",
       "      <td>2645271</td>\n",
       "      <td>0</td>\n",
       "      <td>0</td>\n",
       "      <td>0</td>\n",
       "    </tr>\n",
       "    <tr>\n",
       "      <th>living with parents and siblings</th>\n",
       "      <td>0</td>\n",
       "      <td>508045</td>\n",
       "      <td>484658</td>\n",
       "      <td>488469</td>\n",
       "    </tr>\n",
       "    <tr>\n",
       "      <th>married</th>\n",
       "      <td>0</td>\n",
       "      <td>7211061</td>\n",
       "      <td>7248603</td>\n",
       "      <td>7284047</td>\n",
       "    </tr>\n",
       "    <tr>\n",
       "      <th>single</th>\n",
       "      <td>5094410</td>\n",
       "      <td>0</td>\n",
       "      <td>0</td>\n",
       "      <td>0</td>\n",
       "    </tr>\n",
       "  </tbody>\n",
       "</table>\n",
       "</div>"
      ],
      "text/plain": [
       "number_dependents                       0        1        2        3\n",
       "fam_status                                                          \n",
       "divorced/widowed                  2645271        0        0        0\n",
       "living with parents and siblings        0   508045   484658   488469\n",
       "married                                 0  7211061  7248603  7284047\n",
       "single                            5094410        0        0        0"
      ]
     },
     "execution_count": 18,
     "metadata": {},
     "output_type": "execute_result"
    }
   ],
   "source": [
    "family_crosstab"
   ]
  },
  {
   "cell_type": "code",
   "execution_count": 19,
   "id": "ebbf1674",
   "metadata": {},
   "outputs": [],
   "source": [
    "custs.loc[(custs['fam_status'] == 'married') & (custs['number_dependents'] == 1), 'household'] = 'Couple without Children'\n",
    "custs.loc[(custs['fam_status'] == 'married') & (custs['number_dependents'] >= 2), 'household'] = 'Couple with Children'\n",
    "custs.loc[(custs['fam_status'] == 'divorced/widowed') | (custs['fam_status'] == 'single'), 'household'] = 'Single Adult'\n",
    "custs.loc[custs['fam_status'] == 'living with parents and siblings', 'household'] = 'Large Family'"
   ]
  },
  {
   "cell_type": "code",
   "execution_count": 20,
   "id": "aa9ae023",
   "metadata": {},
   "outputs": [
    {
     "data": {
      "text/plain": [
       "Couple with Children       14532650\n",
       "Single Adult                7739681\n",
       "Couple without Children     7211061\n",
       "Large Family                1481172\n",
       "Name: household, dtype: int64"
      ]
     },
     "execution_count": 20,
     "metadata": {},
     "output_type": "execute_result"
    }
   ],
   "source": [
    "custs['household'].value_counts(dropna = False)"
   ]
  },
  {
   "cell_type": "code",
   "execution_count": 21,
   "id": "7f9aef18",
   "metadata": {},
   "outputs": [
    {
     "data": {
      "text/plain": [
       "(30964564, 38)"
      ]
     },
     "execution_count": 21,
     "metadata": {},
     "output_type": "execute_result"
    }
   ],
   "source": [
    "# Check for the new column in the 'custs' dataset.\n",
    "\n",
    "custs.shape"
   ]
  },
  {
   "cell_type": "markdown",
   "id": "08ee0e70",
   "metadata": {},
   "source": [
    "### 5.1.4 Segmentation by department"
   ]
  },
  {
   "cell_type": "markdown",
   "id": "4b06abf2",
   "metadata": {},
   "source": [
    "We can use the 'department' dataframe to match department names with their corresponding IDs in the 'custs' dataset."
   ]
  },
  {
   "cell_type": "code",
   "execution_count": 22,
   "id": "ccd09e34",
   "metadata": {},
   "outputs": [],
   "source": [
    "# Import departments dataframe\n",
    "\n",
    "df_depts = pd.read_csv(os.path.join(path, '02_Data', 'Prepared_Data', 'departments_wrangled.csv'), index_col = False)"
   ]
  },
  {
   "cell_type": "code",
   "execution_count": 23,
   "id": "7199f4ec",
   "metadata": {},
   "outputs": [
    {
     "data": {
      "text/html": [
       "<div>\n",
       "<style scoped>\n",
       "    .dataframe tbody tr th:only-of-type {\n",
       "        vertical-align: middle;\n",
       "    }\n",
       "\n",
       "    .dataframe tbody tr th {\n",
       "        vertical-align: top;\n",
       "    }\n",
       "\n",
       "    .dataframe thead th {\n",
       "        text-align: right;\n",
       "    }\n",
       "</style>\n",
       "<table border=\"1\" class=\"dataframe\">\n",
       "  <thead>\n",
       "    <tr style=\"text-align: right;\">\n",
       "      <th></th>\n",
       "      <th>Unnamed: 0</th>\n",
       "      <th>department</th>\n",
       "    </tr>\n",
       "  </thead>\n",
       "  <tbody>\n",
       "    <tr>\n",
       "      <th>0</th>\n",
       "      <td>1</td>\n",
       "      <td>frozen</td>\n",
       "    </tr>\n",
       "    <tr>\n",
       "      <th>1</th>\n",
       "      <td>2</td>\n",
       "      <td>other</td>\n",
       "    </tr>\n",
       "    <tr>\n",
       "      <th>2</th>\n",
       "      <td>3</td>\n",
       "      <td>bakery</td>\n",
       "    </tr>\n",
       "    <tr>\n",
       "      <th>3</th>\n",
       "      <td>4</td>\n",
       "      <td>produce</td>\n",
       "    </tr>\n",
       "    <tr>\n",
       "      <th>4</th>\n",
       "      <td>5</td>\n",
       "      <td>alcohol</td>\n",
       "    </tr>\n",
       "    <tr>\n",
       "      <th>5</th>\n",
       "      <td>6</td>\n",
       "      <td>international</td>\n",
       "    </tr>\n",
       "    <tr>\n",
       "      <th>6</th>\n",
       "      <td>7</td>\n",
       "      <td>beverages</td>\n",
       "    </tr>\n",
       "    <tr>\n",
       "      <th>7</th>\n",
       "      <td>8</td>\n",
       "      <td>pets</td>\n",
       "    </tr>\n",
       "    <tr>\n",
       "      <th>8</th>\n",
       "      <td>9</td>\n",
       "      <td>dry goods pasta</td>\n",
       "    </tr>\n",
       "    <tr>\n",
       "      <th>9</th>\n",
       "      <td>10</td>\n",
       "      <td>bulk</td>\n",
       "    </tr>\n",
       "    <tr>\n",
       "      <th>10</th>\n",
       "      <td>11</td>\n",
       "      <td>personal care</td>\n",
       "    </tr>\n",
       "    <tr>\n",
       "      <th>11</th>\n",
       "      <td>12</td>\n",
       "      <td>meat seafood</td>\n",
       "    </tr>\n",
       "    <tr>\n",
       "      <th>12</th>\n",
       "      <td>13</td>\n",
       "      <td>pantry</td>\n",
       "    </tr>\n",
       "    <tr>\n",
       "      <th>13</th>\n",
       "      <td>14</td>\n",
       "      <td>breakfast</td>\n",
       "    </tr>\n",
       "    <tr>\n",
       "      <th>14</th>\n",
       "      <td>15</td>\n",
       "      <td>canned goods</td>\n",
       "    </tr>\n",
       "    <tr>\n",
       "      <th>15</th>\n",
       "      <td>16</td>\n",
       "      <td>dairy eggs</td>\n",
       "    </tr>\n",
       "    <tr>\n",
       "      <th>16</th>\n",
       "      <td>17</td>\n",
       "      <td>household</td>\n",
       "    </tr>\n",
       "    <tr>\n",
       "      <th>17</th>\n",
       "      <td>18</td>\n",
       "      <td>babies</td>\n",
       "    </tr>\n",
       "    <tr>\n",
       "      <th>18</th>\n",
       "      <td>19</td>\n",
       "      <td>snacks</td>\n",
       "    </tr>\n",
       "    <tr>\n",
       "      <th>19</th>\n",
       "      <td>20</td>\n",
       "      <td>deli</td>\n",
       "    </tr>\n",
       "    <tr>\n",
       "      <th>20</th>\n",
       "      <td>21</td>\n",
       "      <td>missing</td>\n",
       "    </tr>\n",
       "  </tbody>\n",
       "</table>\n",
       "</div>"
      ],
      "text/plain": [
       "    Unnamed: 0       department\n",
       "0            1           frozen\n",
       "1            2            other\n",
       "2            3           bakery\n",
       "3            4          produce\n",
       "4            5          alcohol\n",
       "5            6    international\n",
       "6            7        beverages\n",
       "7            8             pets\n",
       "8            9  dry goods pasta\n",
       "9           10             bulk\n",
       "10          11    personal care\n",
       "11          12     meat seafood\n",
       "12          13           pantry\n",
       "13          14        breakfast\n",
       "14          15     canned goods\n",
       "15          16       dairy eggs\n",
       "16          17        household\n",
       "17          18           babies\n",
       "18          19           snacks\n",
       "19          20             deli\n",
       "20          21          missing"
      ]
     },
     "execution_count": 23,
     "metadata": {},
     "output_type": "execute_result"
    }
   ],
   "source": [
    "# Calling 'department' dataframe\n",
    "\n",
    "df_depts"
   ]
  },
  {
   "cell_type": "code",
   "execution_count": 24,
   "id": "10da4b05",
   "metadata": {},
   "outputs": [],
   "source": [
    "# Renaming index column\n",
    "\n",
    "df_depts.rename(columns= {\"Unnamed: 0\": \"department_id\"}, inplace=True)"
   ]
  },
  {
   "cell_type": "code",
   "execution_count": 25,
   "id": "da4990d9",
   "metadata": {},
   "outputs": [
    {
     "data": {
      "text/html": [
       "<div>\n",
       "<style scoped>\n",
       "    .dataframe tbody tr th:only-of-type {\n",
       "        vertical-align: middle;\n",
       "    }\n",
       "\n",
       "    .dataframe tbody tr th {\n",
       "        vertical-align: top;\n",
       "    }\n",
       "\n",
       "    .dataframe thead th {\n",
       "        text-align: right;\n",
       "    }\n",
       "</style>\n",
       "<table border=\"1\" class=\"dataframe\">\n",
       "  <thead>\n",
       "    <tr style=\"text-align: right;\">\n",
       "      <th></th>\n",
       "      <th>department_id</th>\n",
       "      <th>department</th>\n",
       "    </tr>\n",
       "  </thead>\n",
       "  <tbody>\n",
       "    <tr>\n",
       "      <th>0</th>\n",
       "      <td>1</td>\n",
       "      <td>frozen</td>\n",
       "    </tr>\n",
       "    <tr>\n",
       "      <th>1</th>\n",
       "      <td>2</td>\n",
       "      <td>other</td>\n",
       "    </tr>\n",
       "    <tr>\n",
       "      <th>2</th>\n",
       "      <td>3</td>\n",
       "      <td>bakery</td>\n",
       "    </tr>\n",
       "    <tr>\n",
       "      <th>3</th>\n",
       "      <td>4</td>\n",
       "      <td>produce</td>\n",
       "    </tr>\n",
       "    <tr>\n",
       "      <th>4</th>\n",
       "      <td>5</td>\n",
       "      <td>alcohol</td>\n",
       "    </tr>\n",
       "    <tr>\n",
       "      <th>5</th>\n",
       "      <td>6</td>\n",
       "      <td>international</td>\n",
       "    </tr>\n",
       "    <tr>\n",
       "      <th>6</th>\n",
       "      <td>7</td>\n",
       "      <td>beverages</td>\n",
       "    </tr>\n",
       "    <tr>\n",
       "      <th>7</th>\n",
       "      <td>8</td>\n",
       "      <td>pets</td>\n",
       "    </tr>\n",
       "    <tr>\n",
       "      <th>8</th>\n",
       "      <td>9</td>\n",
       "      <td>dry goods pasta</td>\n",
       "    </tr>\n",
       "    <tr>\n",
       "      <th>9</th>\n",
       "      <td>10</td>\n",
       "      <td>bulk</td>\n",
       "    </tr>\n",
       "    <tr>\n",
       "      <th>10</th>\n",
       "      <td>11</td>\n",
       "      <td>personal care</td>\n",
       "    </tr>\n",
       "    <tr>\n",
       "      <th>11</th>\n",
       "      <td>12</td>\n",
       "      <td>meat seafood</td>\n",
       "    </tr>\n",
       "    <tr>\n",
       "      <th>12</th>\n",
       "      <td>13</td>\n",
       "      <td>pantry</td>\n",
       "    </tr>\n",
       "    <tr>\n",
       "      <th>13</th>\n",
       "      <td>14</td>\n",
       "      <td>breakfast</td>\n",
       "    </tr>\n",
       "    <tr>\n",
       "      <th>14</th>\n",
       "      <td>15</td>\n",
       "      <td>canned goods</td>\n",
       "    </tr>\n",
       "    <tr>\n",
       "      <th>15</th>\n",
       "      <td>16</td>\n",
       "      <td>dairy eggs</td>\n",
       "    </tr>\n",
       "    <tr>\n",
       "      <th>16</th>\n",
       "      <td>17</td>\n",
       "      <td>household</td>\n",
       "    </tr>\n",
       "    <tr>\n",
       "      <th>17</th>\n",
       "      <td>18</td>\n",
       "      <td>babies</td>\n",
       "    </tr>\n",
       "    <tr>\n",
       "      <th>18</th>\n",
       "      <td>19</td>\n",
       "      <td>snacks</td>\n",
       "    </tr>\n",
       "    <tr>\n",
       "      <th>19</th>\n",
       "      <td>20</td>\n",
       "      <td>deli</td>\n",
       "    </tr>\n",
       "    <tr>\n",
       "      <th>20</th>\n",
       "      <td>21</td>\n",
       "      <td>missing</td>\n",
       "    </tr>\n",
       "  </tbody>\n",
       "</table>\n",
       "</div>"
      ],
      "text/plain": [
       "    department_id       department\n",
       "0               1           frozen\n",
       "1               2            other\n",
       "2               3           bakery\n",
       "3               4          produce\n",
       "4               5          alcohol\n",
       "5               6    international\n",
       "6               7        beverages\n",
       "7               8             pets\n",
       "8               9  dry goods pasta\n",
       "9              10             bulk\n",
       "10             11    personal care\n",
       "11             12     meat seafood\n",
       "12             13           pantry\n",
       "13             14        breakfast\n",
       "14             15     canned goods\n",
       "15             16       dairy eggs\n",
       "16             17        household\n",
       "17             18           babies\n",
       "18             19           snacks\n",
       "19             20             deli\n",
       "20             21          missing"
      ]
     },
     "execution_count": 25,
     "metadata": {},
     "output_type": "execute_result"
    }
   ],
   "source": [
    "# Checking output\n",
    "\n",
    "df_depts"
   ]
  },
  {
   "cell_type": "code",
   "execution_count": 26,
   "id": "7e83ca97",
   "metadata": {},
   "outputs": [],
   "source": [
    "# Create a dictionary \n",
    "\n",
    "depts_map = dict(zip(df_depts[\"department_id\"], df_depts[\"department\"]))"
   ]
  },
  {
   "cell_type": "code",
   "execution_count": 27,
   "id": "cf3e5deb",
   "metadata": {},
   "outputs": [],
   "source": [
    "# Customers are linked to departments using the map() and (dept_map) functions\n",
    "\n",
    "custs['department'] = custs['department_id'].map(depts_map)"
   ]
  },
  {
   "cell_type": "code",
   "execution_count": 28,
   "id": "a4d6d509",
   "metadata": {},
   "outputs": [
    {
     "data": {
      "text/plain": [
       "(30964564, 39)"
      ]
     },
     "execution_count": 28,
     "metadata": {},
     "output_type": "execute_result"
    }
   ],
   "source": [
    "# Check for the new column in the 'custs' dataset.\n",
    "\n",
    "custs.shape"
   ]
  },
  {
   "cell_type": "code",
   "execution_count": 29,
   "id": "584cd508",
   "metadata": {},
   "outputs": [
    {
     "data": {
      "text/plain": [
       "produce            9079273\n",
       "dairy eggs         5177182\n",
       "snacks             2766406\n",
       "beverages          2571901\n",
       "frozen             2121731\n",
       "pantry             1782705\n",
       "bakery             1120828\n",
       "canned goods       1012074\n",
       "deli               1003834\n",
       "dry goods pasta     822136\n",
       "household           699857\n",
       "meat seafood        674781\n",
       "breakfast           670850\n",
       "personal care       424306\n",
       "babies              410392\n",
       "international       255991\n",
       "alcohol             144627\n",
       "pets                 93060\n",
       "missing              64768\n",
       "other                34411\n",
       "bulk                 33451\n",
       "Name: department, dtype: int64"
      ]
     },
     "execution_count": 29,
     "metadata": {},
     "output_type": "execute_result"
    }
   ],
   "source": [
    "# Distribution of 'department' values in 'custs' dataframe\n",
    "\n",
    "custs['department'].value_counts(dropna = False)"
   ]
  },
  {
   "cell_type": "markdown",
   "id": "82ac714f",
   "metadata": {},
   "source": [
    "## 5.2 Market segmentation based on behavior"
   ]
  },
  {
   "cell_type": "markdown",
   "id": "da2ca1f4",
   "metadata": {},
   "source": [
    "### 5.2.1 Snacks eater"
   ]
  },
  {
   "cell_type": "code",
   "execution_count": 30,
   "id": "460bceea",
   "metadata": {},
   "outputs": [],
   "source": [
    "# Create a snacks_eater column\n",
    "\n",
    "custs.loc[custs['department'] == 'snacks', 'snacks_eater'] = 'Yes'\n",
    "custs.loc[custs['department'] != 'snacks', 'snacks_eater'] = 'No'"
   ]
  },
  {
   "cell_type": "code",
   "execution_count": 31,
   "id": "84075d75",
   "metadata": {},
   "outputs": [
    {
     "data": {
      "text/plain": [
       "No     28198158\n",
       "Yes     2766406\n",
       "Name: snacks_eater, dtype: int64"
      ]
     },
     "execution_count": 31,
     "metadata": {},
     "output_type": "execute_result"
    }
   ],
   "source": [
    "custs['snacks_eater'].value_counts(dropna = False)"
   ]
  },
  {
   "cell_type": "code",
   "execution_count": 32,
   "id": "525ca2ca",
   "metadata": {},
   "outputs": [
    {
     "data": {
      "text/plain": [
       "(30964564, 40)"
      ]
     },
     "execution_count": 32,
     "metadata": {},
     "output_type": "execute_result"
    }
   ],
   "source": [
    "# Check for the new column in the 'custs' dataset.\n",
    "\n",
    "custs.shape"
   ]
  },
  {
   "cell_type": "markdown",
   "id": "9c30b988",
   "metadata": {},
   "source": [
    "### 5.2.2 Customers that do not use alcohol"
   ]
  },
  {
   "cell_type": "code",
   "execution_count": 33,
   "id": "d47e4006",
   "metadata": {},
   "outputs": [],
   "source": [
    "# Create an alcohol_drinker column\n",
    "\n",
    "custs.loc[custs['department'] !='alcohol', 'alcohol_drinker'] = 'No'\n",
    "custs.loc[custs['department'] =='alcohol', 'alcohol_drinker'] = 'Yes'"
   ]
  },
  {
   "cell_type": "code",
   "execution_count": 34,
   "id": "c720d66b",
   "metadata": {},
   "outputs": [
    {
     "data": {
      "text/plain": [
       "No     30819937\n",
       "Yes      144627\n",
       "Name: alcohol_drinker, dtype: int64"
      ]
     },
     "execution_count": 34,
     "metadata": {},
     "output_type": "execute_result"
    }
   ],
   "source": [
    "custs['alcohol_drinker'].value_counts(dropna = False)"
   ]
  },
  {
   "cell_type": "code",
   "execution_count": 35,
   "id": "a410c1e2",
   "metadata": {},
   "outputs": [
    {
     "data": {
      "text/plain": [
       "(30964564, 41)"
      ]
     },
     "execution_count": 35,
     "metadata": {},
     "output_type": "execute_result"
    }
   ],
   "source": [
    "# Check for the new column in the 'custs' dataset.\n",
    "\n",
    "custs.shape"
   ]
  },
  {
   "cell_type": "markdown",
   "id": "23c1720d",
   "metadata": {},
   "source": [
    "### 5.2.3 Customers who own pets"
   ]
  },
  {
   "cell_type": "code",
   "execution_count": 36,
   "id": "b52bc060",
   "metadata": {},
   "outputs": [],
   "source": [
    "# Creata an pet_owner column\n",
    "\n",
    "custs.loc[custs['department'] == 'pets', 'pet_owner'] = 'Yes'\n",
    "custs.loc[custs['department'] != 'pets', 'pet_owner'] = 'No'"
   ]
  },
  {
   "cell_type": "code",
   "execution_count": 37,
   "id": "7af7cdf4",
   "metadata": {},
   "outputs": [
    {
     "data": {
      "text/plain": [
       "No     30871504\n",
       "Yes       93060\n",
       "Name: pet_owner, dtype: int64"
      ]
     },
     "execution_count": 37,
     "metadata": {},
     "output_type": "execute_result"
    }
   ],
   "source": [
    "custs['pet_owner'].value_counts(dropna= False)"
   ]
  },
  {
   "cell_type": "code",
   "execution_count": 38,
   "id": "7f7deaba",
   "metadata": {},
   "outputs": [
    {
     "data": {
      "text/plain": [
       "(30964564, 42)"
      ]
     },
     "execution_count": 38,
     "metadata": {},
     "output_type": "execute_result"
    }
   ],
   "source": [
    "# Check for the new column in the 'custs' dataset.\n",
    "\n",
    "custs.shape"
   ]
  },
  {
   "cell_type": "markdown",
   "id": "4f6958b1",
   "metadata": {},
   "source": [
    "### 5.2.4 Vegetarian customers"
   ]
  },
  {
   "cell_type": "code",
   "execution_count": 39,
   "id": "c4728ca1",
   "metadata": {},
   "outputs": [],
   "source": [
    "# Create list to assign 'vegetarian' column's values. If a customer never purchased 'meat seafood' or deli, \n",
    "# then we assume them a vegetarian.\n",
    "\n",
    "result = []\n",
    "for value in custs['department_id']:\n",
    "    \n",
    "    # 12 'meat seafood' and 20 is the department_id of 'deli'\n",
    "    \n",
    "    if value not in (12,20):\n",
    "        result.append('Yes')\n",
    "    else:\n",
    "        result.append('No')"
   ]
  },
  {
   "cell_type": "code",
   "execution_count": 40,
   "id": "f89075ad",
   "metadata": {},
   "outputs": [],
   "source": [
    "# Assign 'result' list values to 'vegetarian' column\n",
    "\n",
    "custs['vegetarian'] = result"
   ]
  },
  {
   "cell_type": "code",
   "execution_count": 41,
   "id": "e8af78f5",
   "metadata": {},
   "outputs": [
    {
     "data": {
      "text/plain": [
       "Yes    29285949\n",
       "No      1678615\n",
       "Name: vegetarian, dtype: int64"
      ]
     },
     "execution_count": 41,
     "metadata": {},
     "output_type": "execute_result"
    }
   ],
   "source": [
    "# Check 'vegetarian' values in customers\n",
    "\n",
    "custs['vegetarian'].value_counts(dropna = False)"
   ]
  },
  {
   "cell_type": "code",
   "execution_count": 42,
   "id": "e6c7e92c",
   "metadata": {},
   "outputs": [
    {
     "data": {
      "text/plain": [
       "(30964564, 43)"
      ]
     },
     "execution_count": 42,
     "metadata": {},
     "output_type": "execute_result"
    }
   ],
   "source": [
    "# Check for the new column in the 'custs' dataset.\n",
    "\n",
    "custs.shape"
   ]
  },
  {
   "cell_type": "markdown",
   "id": "edb8cbed",
   "metadata": {},
   "source": [
    "### 5.2.5 Parents with babies"
   ]
  },
  {
   "cell_type": "code",
   "execution_count": 43,
   "id": "f63dd00e",
   "metadata": {},
   "outputs": [],
   "source": [
    "# Creating 'parents_with_baby' column based on department\n",
    "\n",
    "custs.loc[custs['department'] !='babies', 'parents_with_baby'] = 'No'\n",
    "custs.loc[custs['department'] =='babies', 'parents_with_baby'] = 'Yes'"
   ]
  },
  {
   "cell_type": "code",
   "execution_count": 44,
   "id": "0fd2c405",
   "metadata": {},
   "outputs": [
    {
     "data": {
      "text/plain": [
       "No     30554172\n",
       "Yes      410392\n",
       "Name: parents_with_baby, dtype: int64"
      ]
     },
     "execution_count": 44,
     "metadata": {},
     "output_type": "execute_result"
    }
   ],
   "source": [
    "custs['parents_with_baby'].value_counts(dropna = False)"
   ]
  },
  {
   "cell_type": "code",
   "execution_count": 45,
   "id": "35ec2cca",
   "metadata": {},
   "outputs": [
    {
     "data": {
      "text/plain": [
       "(30964564, 44)"
      ]
     },
     "execution_count": 45,
     "metadata": {},
     "output_type": "execute_result"
    }
   ],
   "source": [
    "# Check for the new column in the 'custs' dataset.\n",
    "\n",
    "custs.shape"
   ]
  },
  {
   "cell_type": "markdown",
   "id": "8aaf6fe3",
   "metadata": {},
   "source": [
    "### 5.2.6 Early birds and night owls"
   ]
  },
  {
   "cell_type": "code",
   "execution_count": 46,
   "id": "51a67eaa",
   "metadata": {},
   "outputs": [
    {
     "data": {
      "text/plain": [
       "0      208042\n",
       "1      109621\n",
       "2       65691\n",
       "3       48796\n",
       "4       50763\n",
       "5       84418\n",
       "6      281013\n",
       "7      863213\n",
       "8     1659110\n",
       "9     2363611\n",
       "10    2649744\n",
       "11    2614880\n",
       "12    2495795\n",
       "13    2539276\n",
       "14    2567903\n",
       "15    2535966\n",
       "16    2413681\n",
       "17    1982345\n",
       "18    1551184\n",
       "19    1193878\n",
       "20     930909\n",
       "21     763111\n",
       "22     607060\n",
       "23     384554\n",
       "Name: order_hour_of_day, dtype: int64"
      ]
     },
     "execution_count": 46,
     "metadata": {},
     "output_type": "execute_result"
    }
   ],
   "source": [
    "# Check the distribution of orders in 24 hours a day\n",
    "\n",
    "custs['order_hour_of_day'].value_counts(dropna = False).sort_index()"
   ]
  },
  {
   "cell_type": "code",
   "execution_count": 47,
   "id": "47dcd39d",
   "metadata": {},
   "outputs": [],
   "source": [
    "# Create a 'order_time_habit' column based on order time\n",
    "\n",
    "custs.loc[custs['order_hour_of_day'] <5 , 'order_time_habit'] = 'Night owl'\n",
    "custs.loc[(custs['order_hour_of_day']>= 9) & (custs['order_hour_of_day']<= 23), 'order_time_habit'] = 'Regular'\n",
    "custs.loc[(custs['order_hour_of_day']>= 5) & (custs['order_hour_of_day']< 9), 'order_time_habit'] = 'Early bird'"
   ]
  },
  {
   "cell_type": "code",
   "execution_count": 48,
   "id": "42fe1250",
   "metadata": {},
   "outputs": [
    {
     "data": {
      "text/plain": [
       "Regular       27593897\n",
       "Early bird     2887754\n",
       "Night owl       482913\n",
       "Name: order_time_habit, dtype: int64"
      ]
     },
     "execution_count": 48,
     "metadata": {},
     "output_type": "execute_result"
    }
   ],
   "source": [
    "custs['order_time_habit'].value_counts(dropna = False)"
   ]
  },
  {
   "cell_type": "code",
   "execution_count": 49,
   "id": "f7549625",
   "metadata": {},
   "outputs": [
    {
     "data": {
      "text/plain": [
       "(30964564, 45)"
      ]
     },
     "execution_count": 49,
     "metadata": {},
     "output_type": "execute_result"
    }
   ],
   "source": [
    "# Check for the new column in the 'custs' dataset.\n",
    "\n",
    "custs.shape"
   ]
  },
  {
   "cell_type": "markdown",
   "id": "4b35c098",
   "metadata": {},
   "source": [
    "# 6. Customer profile visualization"
   ]
  },
  {
   "cell_type": "code",
   "execution_count": 50,
   "id": "98b2c664",
   "metadata": {},
   "outputs": [
    {
     "data": {
      "text/plain": [
       "<matplotlib.legend.Legend at 0x7fa207f60910>"
      ]
     },
     "execution_count": 50,
     "metadata": {},
     "output_type": "execute_result"
    },
    {
     "data": {
      "image/png": "[encoded data removed]",
      "text/plain": [
       "<Figure size 640x480 with 1 Axes>"
      ]
     },
     "metadata": {},
     "output_type": "display_data"
    }
   ],
   "source": [
    "# Create a pie chart of the 'snacks_eater' column\n",
    "\n",
    "pie_snacks = custs['snacks_eater'].value_counts().plot.pie(labels = ['Yes','No'], autopct=('%1.f%%'), colors = ['turquoise','lime'], label = '', startangle=90)\n",
    "pie_snacks.legend(title = 'Snacks eater status: ', loc = 'best')"
   ]
  },
  {
   "cell_type": "code",
   "execution_count": 51,
   "id": "99d70847",
   "metadata": {},
   "outputs": [
    {
     "data": {
      "text/plain": [
       "Text(0.5, 0, 'Status')"
      ]
     },
     "execution_count": 51,
     "metadata": {},
     "output_type": "execute_result"
    },
    {
     "data": {
      "image/png": "[encoded data removed]",
      "text/plain": [
       "<Figure size 640x480 with 1 Axes>"
      ]
     },
     "metadata": {},
     "output_type": "display_data"
    }
   ],
   "source": [
    "# Create a bar chart of the 'parents_with_baby' column\n",
    "\n",
    "bar_babies = custs['parents_with_baby'].value_counts().plot.bar( color = ['orange', 'purple'])\n",
    "plt.title('Parents with baby', fontsize = 18, pad=20)\n",
    "plt.ylabel('Frequency (in millions)', fontsize = 12)\n",
    "plt.xlabel('Status',  fontsize = 12)\n"
   ]
  },
  {
   "cell_type": "code",
   "execution_count": 52,
   "id": "891b08e7",
   "metadata": {},
   "outputs": [
    {
     "data": {
      "text/plain": [
       "Text(0.5, 0, 'Status')"
      ]
     },
     "execution_count": 52,
     "metadata": {},
     "output_type": "execute_result"
    },
    {
     "data": {
      "image/png": "[encoded data removed]",
      "text/plain": [
       "<Figure size 640x480 with 1 Axes>"
      ]
     },
     "metadata": {},
     "output_type": "display_data"
    }
   ],
   "source": [
    "# Create a bar chart of the 'vegetarian' column\n",
    "\n",
    "bar_vegetarian = custs['vegetarian'].value_counts().plot.bar( color = ['blue', 'lime'])\n",
    "plt.title('Vegetarian customers', fontsize = 18, pad=20)\n",
    "plt.ylabel('Frequency (in millions)', fontsize = 12)\n",
    "plt.xlabel('Status',  fontsize = 12)"
   ]
  },
  {
   "cell_type": "code",
   "execution_count": 53,
   "id": "d3ce1773",
   "metadata": {},
   "outputs": [
    {
     "data": {
      "text/plain": [
       "Text(0.5, 0, 'Order Habits')"
      ]
     },
     "execution_count": 53,
     "metadata": {},
     "output_type": "execute_result"
    },
    {
     "data": {
      "image/png": "[encoded data removed]",
      "text/plain": [
       "<Figure size 640x480 with 1 Axes>"
      ]
     },
     "metadata": {},
     "output_type": "display_data"
    }
   ],
   "source": [
    "# Create a bar chart of the 'order_time_habit' column\n",
    "\n",
    "bar_time = custs['order_time_habit'].value_counts().plot.bar( color = ['blue', 'orange', 'purple'])\n",
    "plt.title('Order Time Habits Distribution for IC Customers', fontsize = 18, pad=20)\n",
    "plt.ylabel('Frequency (in millions)', fontsize = 12)\n",
    "plt.xlabel('Order Habits',  fontsize = 12)\n"
   ]
  },
  {
   "cell_type": "code",
   "execution_count": 54,
   "id": "772fbd77",
   "metadata": {},
   "outputs": [
    {
     "data": {
      "text/html": [
       "<div>\n",
       "<style scoped>\n",
       "    .dataframe tbody tr th:only-of-type {\n",
       "        vertical-align: middle;\n",
       "    }\n",
       "\n",
       "    .dataframe tbody tr th {\n",
       "        vertical-align: top;\n",
       "    }\n",
       "\n",
       "    .dataframe thead th {\n",
       "        text-align: right;\n",
       "    }\n",
       "</style>\n",
       "<table border=\"1\" class=\"dataframe\">\n",
       "  <thead>\n",
       "    <tr style=\"text-align: right;\">\n",
       "      <th>income_category</th>\n",
       "      <th>High</th>\n",
       "      <th>Low</th>\n",
       "      <th>Middle</th>\n",
       "      <th>Upper Middle</th>\n",
       "    </tr>\n",
       "    <tr>\n",
       "      <th>region</th>\n",
       "      <th></th>\n",
       "      <th></th>\n",
       "      <th></th>\n",
       "      <th></th>\n",
       "    </tr>\n",
       "  </thead>\n",
       "  <tbody>\n",
       "    <tr>\n",
       "      <th>Midwest</th>\n",
       "      <td>1763002</td>\n",
       "      <td>1974266</td>\n",
       "      <td>1887154</td>\n",
       "      <td>1637091</td>\n",
       "    </tr>\n",
       "    <tr>\n",
       "      <th>Northeast</th>\n",
       "      <td>1308807</td>\n",
       "      <td>1486808</td>\n",
       "      <td>1461393</td>\n",
       "      <td>1207677</td>\n",
       "    </tr>\n",
       "    <tr>\n",
       "      <th>South</th>\n",
       "      <td>2442801</td>\n",
       "      <td>2849538</td>\n",
       "      <td>2797656</td>\n",
       "      <td>2221144</td>\n",
       "    </tr>\n",
       "    <tr>\n",
       "      <th>West</th>\n",
       "      <td>1886804</td>\n",
       "      <td>2209921</td>\n",
       "      <td>2090426</td>\n",
       "      <td>1740076</td>\n",
       "    </tr>\n",
       "  </tbody>\n",
       "</table>\n",
       "</div>"
      ],
      "text/plain": [
       "income_category     High      Low   Middle  Upper Middle\n",
       "region                                                  \n",
       "Midwest          1763002  1974266  1887154       1637091\n",
       "Northeast        1308807  1486808  1461393       1207677\n",
       "South            2442801  2849538  2797656       2221144\n",
       "West             1886804  2209921  2090426       1740076"
      ]
     },
     "execution_count": 54,
     "metadata": {},
     "output_type": "execute_result"
    }
   ],
   "source": [
    "# Create a stacked-bar chart of 'income_category' column in different regions\n",
    "\n",
    "crosstab_income_region = pd.crosstab (custs['region'], custs['income_category'], dropna = False)\n",
    "crosstab_income_region"
   ]
  },
  {
   "cell_type": "code",
   "execution_count": 55,
   "id": "b9be4568",
   "metadata": {},
   "outputs": [
    {
     "data": {
      "text/plain": [
       "Text(0.5, 0, '')"
      ]
     },
     "execution_count": 55,
     "metadata": {},
     "output_type": "execute_result"
    },
    {
     "data": {
      "image/png": "[encoded data removed]",
      "text/plain": [
       "<Figure size 800x400 with 1 Axes>"
      ]
     },
     "metadata": {},
     "output_type": "display_data"
    }
   ],
   "source": [
    "# Create a bar chart of income categorie in the US regions\n",
    "\n",
    "bar_income = crosstab_income_region.plot(kind = 'bar', figsize =(8,4), rot = 0, colormap ='winter_r').legend(title =\"Income category\", bbox_to_anchor = (1.0,1.0))\n",
    "plt.title('Purchasing by regions and income', fontsize = 18, pad =25)\n",
    "plt.ylabel('Frequency (in millions)', fontsize = 12)\n",
    "plt.xlabel('')"
   ]
  },
  {
   "cell_type": "markdown",
   "id": "27b4399b",
   "metadata": {},
   "source": [
    "#### **Chart Observation:**\n",
    "\n",
    "Discounts and promotions can be offered on popular items to support low-income customers who make up the largest portion of IC customers."
   ]
  },
  {
   "cell_type": "code",
   "execution_count": 56,
   "id": "275c0e23",
   "metadata": {},
   "outputs": [
    {
     "data": {
      "text/plain": [
       "(array([0, 1, 2, 3]),\n",
       " [Text(0, 0, 'Couple with Children'),\n",
       "  Text(1, 0, 'Single Adult'),\n",
       "  Text(2, 0, 'Couple without Children'),\n",
       "  Text(3, 0, 'Large Family')])"
      ]
     },
     "execution_count": 56,
     "metadata": {},
     "output_type": "execute_result"
    },
    {
     "data": {
      "image/png": "[encoded data removed]",
      "text/plain": [
       "<Figure size 640x480 with 1 Axes>"
      ]
     },
     "metadata": {},
     "output_type": "display_data"
    }
   ],
   "source": [
    "# Create a bar chart of 'household' column\n",
    "\n",
    "bar_household = custs['household'].value_counts().plot.bar(color = ['lightsalmon', 'lightskyblue', 'gold', 'darkblue'])\n",
    "plt.title('Household Distribution of IC Customers', fontsize = 18, pad = 20)\n",
    "plt.ylabel('Frequency (in millions)', fontsize = 12)\n",
    "plt.xlabel('Household',  fontsize = 12)\n",
    "plt.xticks(rotation = 45)"
   ]
  },
  {
   "cell_type": "markdown",
   "id": "e9ec5e72",
   "metadata": {},
   "source": [
    "#### **Chart Observation:**\n",
    "\n",
    "Marketing campaigns and promotions should take into account that couples with children constitute the majority of IC households."
   ]
  },
  {
   "cell_type": "code",
   "execution_count": 57,
   "id": "58469d16",
   "metadata": {},
   "outputs": [
    {
     "data": {
      "text/html": [
       "<div>\n",
       "<style scoped>\n",
       "    .dataframe tbody tr th:only-of-type {\n",
       "        vertical-align: middle;\n",
       "    }\n",
       "\n",
       "    .dataframe tbody tr th {\n",
       "        vertical-align: top;\n",
       "    }\n",
       "\n",
       "    .dataframe thead th {\n",
       "        text-align: right;\n",
       "    }\n",
       "</style>\n",
       "<table border=\"1\" class=\"dataframe\">\n",
       "  <thead>\n",
       "    <tr style=\"text-align: right;\">\n",
       "      <th>order_time_habit</th>\n",
       "      <th>Early bird</th>\n",
       "      <th>Night owl</th>\n",
       "      <th>Regular</th>\n",
       "    </tr>\n",
       "    <tr>\n",
       "      <th>loyalty_flag</th>\n",
       "      <th></th>\n",
       "      <th></th>\n",
       "      <th></th>\n",
       "    </tr>\n",
       "  </thead>\n",
       "  <tbody>\n",
       "    <tr>\n",
       "      <th>Loyal customer</th>\n",
       "      <td>1132804</td>\n",
       "      <td>139971</td>\n",
       "      <td>9011318</td>\n",
       "    </tr>\n",
       "    <tr>\n",
       "      <th>New customer</th>\n",
       "      <td>356670</td>\n",
       "      <td>86178</td>\n",
       "      <td>4360847</td>\n",
       "    </tr>\n",
       "    <tr>\n",
       "      <th>Regular customer</th>\n",
       "      <td>1398280</td>\n",
       "      <td>256764</td>\n",
       "      <td>14221732</td>\n",
       "    </tr>\n",
       "  </tbody>\n",
       "</table>\n",
       "</div>"
      ],
      "text/plain": [
       "order_time_habit  Early bird  Night owl   Regular\n",
       "loyalty_flag                                     \n",
       "Loyal customer       1132804     139971   9011318\n",
       "New customer          356670      86178   4360847\n",
       "Regular customer     1398280     256764  14221732"
      ]
     },
     "execution_count": 57,
     "metadata": {},
     "output_type": "execute_result"
    }
   ],
   "source": [
    "# Comparison in 'order_time_habit' and 'loyalty'\n",
    "\n",
    "ct_loy_hbt = pd.crosstab(custs['loyalty_flag'], custs['order_time_habit'], dropna = False)\n",
    "ct_loy_hbt"
   ]
  },
  {
   "cell_type": "code",
   "execution_count": 58,
   "id": "48c9c8c9",
   "metadata": {
    "scrolled": true
   },
   "outputs": [
    {
     "data": {
      "text/plain": [
       "Text(0.5, 0, 'Loyalty Status')"
      ]
     },
     "execution_count": 58,
     "metadata": {},
     "output_type": "execute_result"
    },
    {
     "data": {
      "image/png": "[encoded data removed]",
      "text/plain": [
       "<Figure size 800x400 with 1 Axes>"
      ]
     },
     "metadata": {},
     "output_type": "display_data"
    }
   ],
   "source": [
    "# Create a bar chart\n",
    "\n",
    "bar_loy_hbt = ct_loy_hbt.plot(kind = 'bar', figsize=(8,4), rot = 0, colormap = 'tab10').legend(title = \"Habits\", bbox_to_anchor = (1.0,1.0))\n",
    "plt.title('Customer ordering habits based on loyalty status', fontsize = 18, pad = 25)\n",
    "plt.ylabel('Frequency (in millions)', fontsize = 12)\n",
    "plt.xlabel('Loyalty Status',  fontsize = 14)"
   ]
  },
  {
   "cell_type": "code",
   "execution_count": 59,
   "id": "b8e25bcd",
   "metadata": {},
   "outputs": [
    {
     "data": {
      "text/html": [
       "<div>\n",
       "<style scoped>\n",
       "    .dataframe tbody tr th:only-of-type {\n",
       "        vertical-align: middle;\n",
       "    }\n",
       "\n",
       "    .dataframe tbody tr th {\n",
       "        vertical-align: top;\n",
       "    }\n",
       "\n",
       "    .dataframe thead th {\n",
       "        text-align: right;\n",
       "    }\n",
       "</style>\n",
       "<table border=\"1\" class=\"dataframe\">\n",
       "  <thead>\n",
       "    <tr style=\"text-align: right;\">\n",
       "      <th>order_time_habit</th>\n",
       "      <th>Early bird</th>\n",
       "      <th>Night owl</th>\n",
       "      <th>Regular</th>\n",
       "    </tr>\n",
       "    <tr>\n",
       "      <th>age_category</th>\n",
       "      <th></th>\n",
       "      <th></th>\n",
       "      <th></th>\n",
       "    </tr>\n",
       "  </thead>\n",
       "  <tbody>\n",
       "    <tr>\n",
       "      <th>Middle age</th>\n",
       "      <td>1124900</td>\n",
       "      <td>185932</td>\n",
       "      <td>10793078</td>\n",
       "    </tr>\n",
       "    <tr>\n",
       "      <th>Senior</th>\n",
       "      <td>773040</td>\n",
       "      <td>126616</td>\n",
       "      <td>7295888</td>\n",
       "    </tr>\n",
       "    <tr>\n",
       "      <th>Youth</th>\n",
       "      <td>989814</td>\n",
       "      <td>170365</td>\n",
       "      <td>9504931</td>\n",
       "    </tr>\n",
       "  </tbody>\n",
       "</table>\n",
       "</div>"
      ],
      "text/plain": [
       "order_time_habit  Early bird  Night owl   Regular\n",
       "age_category                                     \n",
       "Middle age           1124900     185932  10793078\n",
       "Senior                773040     126616   7295888\n",
       "Youth                 989814     170365   9504931"
      ]
     },
     "execution_count": 59,
     "metadata": {},
     "output_type": "execute_result"
    }
   ],
   "source": [
    "# Comparison in 'order_time_habit' and 'age'\n",
    "\n",
    "ct_age_hbt = pd.crosstab(custs['age_category'], custs['order_time_habit'], dropna = False)\n",
    "ct_age_hbt"
   ]
  },
  {
   "cell_type": "code",
   "execution_count": 60,
   "id": "d880ba01",
   "metadata": {},
   "outputs": [
    {
     "data": {
      "text/plain": [
       "Text(0.5, 0, 'Age Category')"
      ]
     },
     "execution_count": 60,
     "metadata": {},
     "output_type": "execute_result"
    },
    {
     "data": {
      "image/png": "[encoded data removed]",
      "text/plain": [
       "<Figure size 800x400 with 1 Axes>"
      ]
     },
     "metadata": {},
     "output_type": "display_data"
    }
   ],
   "source": [
    "# Create a bar chart\n",
    "\n",
    "bar_age_hbt = ct_age_hbt.plot(kind = 'bar', figsize=(8,4), rot = 0, colormap = 'tab20b').legend(title = \"Habits\", bbox_to_anchor = (1.0,1.0))\n",
    "plt.title('Customer ordering habits based on age', fontsize = 18, pad = 25)\n",
    "plt.ylabel('Frequency (in millions)', fontsize = 12)\n",
    "plt.xlabel('Age Category',  fontsize = 14)"
   ]
  },
  {
   "cell_type": "code",
   "execution_count": 61,
   "id": "6ba1f149",
   "metadata": {},
   "outputs": [
    {
     "data": {
      "text/html": [
       "<div>\n",
       "<style scoped>\n",
       "    .dataframe tbody tr th:only-of-type {\n",
       "        vertical-align: middle;\n",
       "    }\n",
       "\n",
       "    .dataframe tbody tr th {\n",
       "        vertical-align: top;\n",
       "    }\n",
       "\n",
       "    .dataframe thead th {\n",
       "        text-align: right;\n",
       "    }\n",
       "</style>\n",
       "<table border=\"1\" class=\"dataframe\">\n",
       "  <thead>\n",
       "    <tr style=\"text-align: right;\">\n",
       "      <th>order_time_habit</th>\n",
       "      <th>Early bird</th>\n",
       "      <th>Night owl</th>\n",
       "      <th>Regular</th>\n",
       "    </tr>\n",
       "    <tr>\n",
       "      <th>fam_status</th>\n",
       "      <th></th>\n",
       "      <th></th>\n",
       "      <th></th>\n",
       "    </tr>\n",
       "  </thead>\n",
       "  <tbody>\n",
       "    <tr>\n",
       "      <th>divorced/widowed</th>\n",
       "      <td>251188</td>\n",
       "      <td>39346</td>\n",
       "      <td>2354737</td>\n",
       "    </tr>\n",
       "    <tr>\n",
       "      <th>living with parents and siblings</th>\n",
       "      <td>137259</td>\n",
       "      <td>25032</td>\n",
       "      <td>1318881</td>\n",
       "    </tr>\n",
       "    <tr>\n",
       "      <th>married</th>\n",
       "      <td>2022323</td>\n",
       "      <td>338404</td>\n",
       "      <td>19382984</td>\n",
       "    </tr>\n",
       "    <tr>\n",
       "      <th>single</th>\n",
       "      <td>476984</td>\n",
       "      <td>80131</td>\n",
       "      <td>4537295</td>\n",
       "    </tr>\n",
       "  </tbody>\n",
       "</table>\n",
       "</div>"
      ],
      "text/plain": [
       "order_time_habit                  Early bird  Night owl   Regular\n",
       "fam_status                                                       \n",
       "divorced/widowed                      251188      39346   2354737\n",
       "living with parents and siblings      137259      25032   1318881\n",
       "married                              2022323     338404  19382984\n",
       "single                                476984      80131   4537295"
      ]
     },
     "execution_count": 61,
     "metadata": {},
     "output_type": "execute_result"
    }
   ],
   "source": [
    "# Comparison in 'order_time_habit' and 'fam_status'\n",
    "\n",
    "ct_fam_hbt = pd.crosstab(custs['fam_status'], custs['order_time_habit'], dropna = False)\n",
    "ct_fam_hbt"
   ]
  },
  {
   "cell_type": "code",
   "execution_count": 62,
   "id": "22fdcc7f",
   "metadata": {},
   "outputs": [
    {
     "data": {
      "text/plain": [
       "(array([0, 1, 2, 3]),\n",
       " [Text(0, 0, 'divorced/widowed'),\n",
       "  Text(1, 0, 'living with parents and siblings'),\n",
       "  Text(2, 0, 'married'),\n",
       "  Text(3, 0, 'single')])"
      ]
     },
     "execution_count": 62,
     "metadata": {},
     "output_type": "execute_result"
    },
    {
     "data": {
      "image/png": "[encoded data removed]",
      "text/plain": [
       "<Figure size 800x400 with 1 Axes>"
      ]
     },
     "metadata": {},
     "output_type": "display_data"
    }
   ],
   "source": [
    "# Create a bar chart\n",
    "\n",
    "bar_fam_hbt = ct_fam_hbt.plot(kind = 'bar', figsize=(8,4), rot = 0, colormap = 'winter_r').legend(title = \"Habits\", bbox_to_anchor = (1.0,1.0))\n",
    "plt.title('Customer ordering habits based on family status', fontsize = 18, pad = 25)\n",
    "plt.ylabel('Frequency (in millions)', fontsize = 12)\n",
    "plt.xlabel('Family Status',  fontsize = 14)\n",
    "plt.xticks(rotation=0, fontsize = 8)"
   ]
  },
  {
   "cell_type": "markdown",
   "id": "1734da5c",
   "metadata": {},
   "source": [
    "# 7. Customer profile aggregation for usage frequency and expenditure"
   ]
  },
  {
   "cell_type": "code",
   "execution_count": 63,
   "id": "7d58af06",
   "metadata": {},
   "outputs": [
    {
     "data": {
      "text/html": [
       "<div>\n",
       "<style scoped>\n",
       "    .dataframe tbody tr th:only-of-type {\n",
       "        vertical-align: middle;\n",
       "    }\n",
       "\n",
       "    .dataframe tbody tr th {\n",
       "        vertical-align: top;\n",
       "    }\n",
       "\n",
       "    .dataframe thead tr th {\n",
       "        text-align: left;\n",
       "    }\n",
       "\n",
       "    .dataframe thead tr:last-of-type th {\n",
       "        text-align: right;\n",
       "    }\n",
       "</style>\n",
       "<table border=\"1\" class=\"dataframe\">\n",
       "  <thead>\n",
       "    <tr>\n",
       "      <th></th>\n",
       "      <th colspan=\"3\" halign=\"left\">prices</th>\n",
       "    </tr>\n",
       "    <tr>\n",
       "      <th></th>\n",
       "      <th>mean</th>\n",
       "      <th>min</th>\n",
       "      <th>max</th>\n",
       "    </tr>\n",
       "    <tr>\n",
       "      <th>department</th>\n",
       "      <th></th>\n",
       "      <th></th>\n",
       "      <th></th>\n",
       "    </tr>\n",
       "  </thead>\n",
       "  <tbody>\n",
       "    <tr>\n",
       "      <th>alcohol</th>\n",
       "      <td>8.150699</td>\n",
       "      <td>1.0</td>\n",
       "      <td>15.0</td>\n",
       "    </tr>\n",
       "    <tr>\n",
       "      <th>babies</th>\n",
       "      <td>7.634399</td>\n",
       "      <td>1.0</td>\n",
       "      <td>15.0</td>\n",
       "    </tr>\n",
       "    <tr>\n",
       "      <th>bakery</th>\n",
       "      <td>7.857482</td>\n",
       "      <td>1.0</td>\n",
       "      <td>15.0</td>\n",
       "    </tr>\n",
       "    <tr>\n",
       "      <th>beverages</th>\n",
       "      <td>7.682556</td>\n",
       "      <td>1.0</td>\n",
       "      <td>15.0</td>\n",
       "    </tr>\n",
       "    <tr>\n",
       "      <th>breakfast</th>\n",
       "      <td>8.031647</td>\n",
       "      <td>1.0</td>\n",
       "      <td>14.9</td>\n",
       "    </tr>\n",
       "    <tr>\n",
       "      <th>bulk</th>\n",
       "      <td>8.346919</td>\n",
       "      <td>1.4</td>\n",
       "      <td>14.1</td>\n",
       "    </tr>\n",
       "    <tr>\n",
       "      <th>canned goods</th>\n",
       "      <td>7.546660</td>\n",
       "      <td>1.0</td>\n",
       "      <td>15.0</td>\n",
       "    </tr>\n",
       "    <tr>\n",
       "      <th>dairy eggs</th>\n",
       "      <td>33.114599</td>\n",
       "      <td>1.0</td>\n",
       "      <td>99999.0</td>\n",
       "    </tr>\n",
       "    <tr>\n",
       "      <th>deli</th>\n",
       "      <td>7.783347</td>\n",
       "      <td>1.0</td>\n",
       "      <td>15.0</td>\n",
       "    </tr>\n",
       "    <tr>\n",
       "      <th>dry goods pasta</th>\n",
       "      <td>7.349370</td>\n",
       "      <td>1.0</td>\n",
       "      <td>15.0</td>\n",
       "    </tr>\n",
       "    <tr>\n",
       "      <th>frozen</th>\n",
       "      <td>7.733725</td>\n",
       "      <td>1.0</td>\n",
       "      <td>15.0</td>\n",
       "    </tr>\n",
       "    <tr>\n",
       "      <th>household</th>\n",
       "      <td>7.379951</td>\n",
       "      <td>1.0</td>\n",
       "      <td>15.0</td>\n",
       "    </tr>\n",
       "    <tr>\n",
       "      <th>international</th>\n",
       "      <td>7.678797</td>\n",
       "      <td>1.0</td>\n",
       "      <td>15.0</td>\n",
       "    </tr>\n",
       "    <tr>\n",
       "      <th>meat seafood</th>\n",
       "      <td>16.300034</td>\n",
       "      <td>8.0</td>\n",
       "      <td>25.0</td>\n",
       "    </tr>\n",
       "    <tr>\n",
       "      <th>missing</th>\n",
       "      <td>8.660655</td>\n",
       "      <td>1.0</td>\n",
       "      <td>15.0</td>\n",
       "    </tr>\n",
       "    <tr>\n",
       "      <th>other</th>\n",
       "      <td>6.961995</td>\n",
       "      <td>1.1</td>\n",
       "      <td>15.0</td>\n",
       "    </tr>\n",
       "    <tr>\n",
       "      <th>pantry</th>\n",
       "      <td>8.014482</td>\n",
       "      <td>1.0</td>\n",
       "      <td>20.0</td>\n",
       "    </tr>\n",
       "    <tr>\n",
       "      <th>personal care</th>\n",
       "      <td>7.998744</td>\n",
       "      <td>1.0</td>\n",
       "      <td>15.0</td>\n",
       "    </tr>\n",
       "    <tr>\n",
       "      <th>pets</th>\n",
       "      <td>7.887489</td>\n",
       "      <td>1.0</td>\n",
       "      <td>15.0</td>\n",
       "    </tr>\n",
       "    <tr>\n",
       "      <th>produce</th>\n",
       "      <td>7.980348</td>\n",
       "      <td>1.0</td>\n",
       "      <td>15.0</td>\n",
       "    </tr>\n",
       "    <tr>\n",
       "      <th>snacks</th>\n",
       "      <td>4.275555</td>\n",
       "      <td>1.6</td>\n",
       "      <td>7.0</td>\n",
       "    </tr>\n",
       "  </tbody>\n",
       "</table>\n",
       "</div>"
      ],
      "text/plain": [
       "                    prices              \n",
       "                      mean  min      max\n",
       "department                              \n",
       "alcohol           8.150699  1.0     15.0\n",
       "babies            7.634399  1.0     15.0\n",
       "bakery            7.857482  1.0     15.0\n",
       "beverages         7.682556  1.0     15.0\n",
       "breakfast         8.031647  1.0     14.9\n",
       "bulk              8.346919  1.4     14.1\n",
       "canned goods      7.546660  1.0     15.0\n",
       "dairy eggs       33.114599  1.0  99999.0\n",
       "deli              7.783347  1.0     15.0\n",
       "dry goods pasta   7.349370  1.0     15.0\n",
       "frozen            7.733725  1.0     15.0\n",
       "household         7.379951  1.0     15.0\n",
       "international     7.678797  1.0     15.0\n",
       "meat seafood     16.300034  8.0     25.0\n",
       "missing           8.660655  1.0     15.0\n",
       "other             6.961995  1.1     15.0\n",
       "pantry            8.014482  1.0     20.0\n",
       "personal care     7.998744  1.0     15.0\n",
       "pets              7.887489  1.0     15.0\n",
       "produce           7.980348  1.0     15.0\n",
       "snacks            4.275555  1.6      7.0"
      ]
     },
     "execution_count": 63,
     "metadata": {},
     "output_type": "execute_result"
    }
   ],
   "source": [
    "# Department category expenditure aggregation\n",
    "\n",
    "custs.groupby('department').agg({'prices' : ['mean', 'min', 'max']})"
   ]
  },
  {
   "cell_type": "code",
   "execution_count": 64,
   "id": "18b17466",
   "metadata": {},
   "outputs": [
    {
     "data": {
      "text/html": [
       "<div>\n",
       "<style scoped>\n",
       "    .dataframe tbody tr th:only-of-type {\n",
       "        vertical-align: middle;\n",
       "    }\n",
       "\n",
       "    .dataframe tbody tr th {\n",
       "        vertical-align: top;\n",
       "    }\n",
       "\n",
       "    .dataframe thead tr th {\n",
       "        text-align: left;\n",
       "    }\n",
       "\n",
       "    .dataframe thead tr:last-of-type th {\n",
       "        text-align: right;\n",
       "    }\n",
       "</style>\n",
       "<table border=\"1\" class=\"dataframe\">\n",
       "  <thead>\n",
       "    <tr>\n",
       "      <th></th>\n",
       "      <th colspan=\"3\" halign=\"left\">add_to_cart_order</th>\n",
       "    </tr>\n",
       "    <tr>\n",
       "      <th></th>\n",
       "      <th>mean</th>\n",
       "      <th>min</th>\n",
       "      <th>max</th>\n",
       "    </tr>\n",
       "    <tr>\n",
       "      <th>age_category</th>\n",
       "      <th></th>\n",
       "      <th></th>\n",
       "      <th></th>\n",
       "    </tr>\n",
       "  </thead>\n",
       "  <tbody>\n",
       "    <tr>\n",
       "      <th>Middle age</th>\n",
       "      <td>8.354216</td>\n",
       "      <td>1</td>\n",
       "      <td>145</td>\n",
       "    </tr>\n",
       "    <tr>\n",
       "      <th>Senior</th>\n",
       "      <td>8.307779</td>\n",
       "      <td>1</td>\n",
       "      <td>99</td>\n",
       "    </tr>\n",
       "    <tr>\n",
       "      <th>Youth</th>\n",
       "      <td>8.415515</td>\n",
       "      <td>1</td>\n",
       "      <td>109</td>\n",
       "    </tr>\n",
       "  </tbody>\n",
       "</table>\n",
       "</div>"
      ],
      "text/plain": [
       "             add_to_cart_order         \n",
       "                          mean min  max\n",
       "age_category                           \n",
       "Middle age            8.354216   1  145\n",
       "Senior                8.307779   1   99\n",
       "Youth                 8.415515   1  109"
      ]
     },
     "execution_count": 64,
     "metadata": {},
     "output_type": "execute_result"
    }
   ],
   "source": [
    "# Age category usage frequency aggregation\n",
    "\n",
    "custs.groupby('age_category').agg({'add_to_cart_order': ['mean', 'min', 'max']})"
   ]
  },
  {
   "cell_type": "code",
   "execution_count": 65,
   "id": "ee1bb457",
   "metadata": {},
   "outputs": [
    {
     "data": {
      "text/html": [
       "<div>\n",
       "<style scoped>\n",
       "    .dataframe tbody tr th:only-of-type {\n",
       "        vertical-align: middle;\n",
       "    }\n",
       "\n",
       "    .dataframe tbody tr th {\n",
       "        vertical-align: top;\n",
       "    }\n",
       "\n",
       "    .dataframe thead tr th {\n",
       "        text-align: left;\n",
       "    }\n",
       "\n",
       "    .dataframe thead tr:last-of-type th {\n",
       "        text-align: right;\n",
       "    }\n",
       "</style>\n",
       "<table border=\"1\" class=\"dataframe\">\n",
       "  <thead>\n",
       "    <tr>\n",
       "      <th></th>\n",
       "      <th colspan=\"3\" halign=\"left\">prices</th>\n",
       "    </tr>\n",
       "    <tr>\n",
       "      <th></th>\n",
       "      <th>mean</th>\n",
       "      <th>min</th>\n",
       "      <th>max</th>\n",
       "    </tr>\n",
       "    <tr>\n",
       "      <th>region</th>\n",
       "      <th></th>\n",
       "      <th></th>\n",
       "      <th></th>\n",
       "    </tr>\n",
       "  </thead>\n",
       "  <tbody>\n",
       "    <tr>\n",
       "      <th>Midwest</th>\n",
       "      <td>12.681835</td>\n",
       "      <td>1.0</td>\n",
       "      <td>99999.0</td>\n",
       "    </tr>\n",
       "    <tr>\n",
       "      <th>Northeast</th>\n",
       "      <td>11.542582</td>\n",
       "      <td>1.0</td>\n",
       "      <td>99999.0</td>\n",
       "    </tr>\n",
       "    <tr>\n",
       "      <th>South</th>\n",
       "      <td>12.118845</td>\n",
       "      <td>1.0</td>\n",
       "      <td>99999.0</td>\n",
       "    </tr>\n",
       "    <tr>\n",
       "      <th>West</th>\n",
       "      <td>11.276491</td>\n",
       "      <td>1.0</td>\n",
       "      <td>99999.0</td>\n",
       "    </tr>\n",
       "  </tbody>\n",
       "</table>\n",
       "</div>"
      ],
      "text/plain": [
       "              prices              \n",
       "                mean  min      max\n",
       "region                            \n",
       "Midwest    12.681835  1.0  99999.0\n",
       "Northeast  11.542582  1.0  99999.0\n",
       "South      12.118845  1.0  99999.0\n",
       "West       11.276491  1.0  99999.0"
      ]
     },
     "execution_count": 65,
     "metadata": {},
     "output_type": "execute_result"
    }
   ],
   "source": [
    "# Region expenditure aggregation\n",
    "\n",
    "custs.groupby('region').agg({'prices': ['mean', 'min', 'max']})"
   ]
  },
  {
   "cell_type": "code",
   "execution_count": 66,
   "id": "11e06a2c",
   "metadata": {},
   "outputs": [
    {
     "data": {
      "text/html": [
       "<div>\n",
       "<style scoped>\n",
       "    .dataframe tbody tr th:only-of-type {\n",
       "        vertical-align: middle;\n",
       "    }\n",
       "\n",
       "    .dataframe tbody tr th {\n",
       "        vertical-align: top;\n",
       "    }\n",
       "\n",
       "    .dataframe thead tr th {\n",
       "        text-align: left;\n",
       "    }\n",
       "\n",
       "    .dataframe thead tr:last-of-type th {\n",
       "        text-align: right;\n",
       "    }\n",
       "</style>\n",
       "<table border=\"1\" class=\"dataframe\">\n",
       "  <thead>\n",
       "    <tr>\n",
       "      <th></th>\n",
       "      <th colspan=\"3\" halign=\"left\">add_to_cart_order</th>\n",
       "    </tr>\n",
       "    <tr>\n",
       "      <th></th>\n",
       "      <th>mean</th>\n",
       "      <th>min</th>\n",
       "      <th>max</th>\n",
       "    </tr>\n",
       "    <tr>\n",
       "      <th>region</th>\n",
       "      <th></th>\n",
       "      <th></th>\n",
       "      <th></th>\n",
       "    </tr>\n",
       "  </thead>\n",
       "  <tbody>\n",
       "    <tr>\n",
       "      <th>Midwest</th>\n",
       "      <td>8.353883</td>\n",
       "      <td>1</td>\n",
       "      <td>109</td>\n",
       "    </tr>\n",
       "    <tr>\n",
       "      <th>Northeast</th>\n",
       "      <td>8.376380</td>\n",
       "      <td>1</td>\n",
       "      <td>145</td>\n",
       "    </tr>\n",
       "    <tr>\n",
       "      <th>South</th>\n",
       "      <td>8.365296</td>\n",
       "      <td>1</td>\n",
       "      <td>137</td>\n",
       "    </tr>\n",
       "    <tr>\n",
       "      <th>West</th>\n",
       "      <td>8.359292</td>\n",
       "      <td>1</td>\n",
       "      <td>114</td>\n",
       "    </tr>\n",
       "  </tbody>\n",
       "</table>\n",
       "</div>"
      ],
      "text/plain": [
       "          add_to_cart_order         \n",
       "                       mean min  max\n",
       "region                              \n",
       "Midwest            8.353883   1  109\n",
       "Northeast          8.376380   1  145\n",
       "South              8.365296   1  137\n",
       "West               8.359292   1  114"
      ]
     },
     "execution_count": 66,
     "metadata": {},
     "output_type": "execute_result"
    }
   ],
   "source": [
    "# Region usage frequency aggregation\n",
    "\n",
    "custs.groupby('region').agg({'add_to_cart_order': ['mean', 'min', 'max']})"
   ]
  },
  {
   "cell_type": "code",
   "execution_count": 67,
   "id": "563a60b7",
   "metadata": {},
   "outputs": [
    {
     "data": {
      "text/html": [
       "<div>\n",
       "<style scoped>\n",
       "    .dataframe tbody tr th:only-of-type {\n",
       "        vertical-align: middle;\n",
       "    }\n",
       "\n",
       "    .dataframe tbody tr th {\n",
       "        vertical-align: top;\n",
       "    }\n",
       "\n",
       "    .dataframe thead tr th {\n",
       "        text-align: left;\n",
       "    }\n",
       "\n",
       "    .dataframe thead tr:last-of-type th {\n",
       "        text-align: right;\n",
       "    }\n",
       "</style>\n",
       "<table border=\"1\" class=\"dataframe\">\n",
       "  <thead>\n",
       "    <tr>\n",
       "      <th></th>\n",
       "      <th colspan=\"3\" halign=\"left\">add_to_cart_order</th>\n",
       "    </tr>\n",
       "    <tr>\n",
       "      <th></th>\n",
       "      <th>mean</th>\n",
       "      <th>min</th>\n",
       "      <th>max</th>\n",
       "    </tr>\n",
       "    <tr>\n",
       "      <th>household</th>\n",
       "      <th></th>\n",
       "      <th></th>\n",
       "      <th></th>\n",
       "    </tr>\n",
       "  </thead>\n",
       "  <tbody>\n",
       "    <tr>\n",
       "      <th>Couple with Children</th>\n",
       "      <td>8.370658</td>\n",
       "      <td>1</td>\n",
       "      <td>145</td>\n",
       "    </tr>\n",
       "    <tr>\n",
       "      <th>Couple without Children</th>\n",
       "      <td>8.373970</td>\n",
       "      <td>1</td>\n",
       "      <td>114</td>\n",
       "    </tr>\n",
       "    <tr>\n",
       "      <th>Large Family</th>\n",
       "      <td>8.373383</td>\n",
       "      <td>1</td>\n",
       "      <td>102</td>\n",
       "    </tr>\n",
       "    <tr>\n",
       "      <th>Single Adult</th>\n",
       "      <td>8.336567</td>\n",
       "      <td>1</td>\n",
       "      <td>137</td>\n",
       "    </tr>\n",
       "  </tbody>\n",
       "</table>\n",
       "</div>"
      ],
      "text/plain": [
       "                        add_to_cart_order         \n",
       "                                     mean min  max\n",
       "household                                         \n",
       "Couple with Children             8.370658   1  145\n",
       "Couple without Children          8.373970   1  114\n",
       "Large Family                     8.373383   1  102\n",
       "Single Adult                     8.336567   1  137"
      ]
     },
     "execution_count": 67,
     "metadata": {},
     "output_type": "execute_result"
    }
   ],
   "source": [
    "# Household usage frequency aggregation\n",
    "\n",
    "custs.groupby('household').agg({'add_to_cart_order' : ['mean', 'min', 'max']})"
   ]
  },
  {
   "cell_type": "code",
   "execution_count": 68,
   "id": "d0f249a7",
   "metadata": {},
   "outputs": [
    {
     "data": {
      "text/html": [
       "<div>\n",
       "<style scoped>\n",
       "    .dataframe tbody tr th:only-of-type {\n",
       "        vertical-align: middle;\n",
       "    }\n",
       "\n",
       "    .dataframe tbody tr th {\n",
       "        vertical-align: top;\n",
       "    }\n",
       "\n",
       "    .dataframe thead tr th {\n",
       "        text-align: left;\n",
       "    }\n",
       "\n",
       "    .dataframe thead tr:last-of-type th {\n",
       "        text-align: right;\n",
       "    }\n",
       "</style>\n",
       "<table border=\"1\" class=\"dataframe\">\n",
       "  <thead>\n",
       "    <tr>\n",
       "      <th></th>\n",
       "      <th colspan=\"3\" halign=\"left\">prices</th>\n",
       "    </tr>\n",
       "    <tr>\n",
       "      <th></th>\n",
       "      <th>mean</th>\n",
       "      <th>min</th>\n",
       "      <th>max</th>\n",
       "    </tr>\n",
       "    <tr>\n",
       "      <th>income_category</th>\n",
       "      <th></th>\n",
       "      <th></th>\n",
       "      <th></th>\n",
       "    </tr>\n",
       "  </thead>\n",
       "  <tbody>\n",
       "    <tr>\n",
       "      <th>High</th>\n",
       "      <td>22.388092</td>\n",
       "      <td>1.0</td>\n",
       "      <td>99999.0</td>\n",
       "    </tr>\n",
       "    <tr>\n",
       "      <th>Low</th>\n",
       "      <td>7.366964</td>\n",
       "      <td>1.0</td>\n",
       "      <td>14900.0</td>\n",
       "    </tr>\n",
       "    <tr>\n",
       "      <th>Middle</th>\n",
       "      <td>8.847132</td>\n",
       "      <td>1.0</td>\n",
       "      <td>99999.0</td>\n",
       "    </tr>\n",
       "    <tr>\n",
       "      <th>Upper Middle</th>\n",
       "      <td>10.016436</td>\n",
       "      <td>1.0</td>\n",
       "      <td>99999.0</td>\n",
       "    </tr>\n",
       "  </tbody>\n",
       "</table>\n",
       "</div>"
      ],
      "text/plain": [
       "                    prices              \n",
       "                      mean  min      max\n",
       "income_category                         \n",
       "High             22.388092  1.0  99999.0\n",
       "Low               7.366964  1.0  14900.0\n",
       "Middle            8.847132  1.0  99999.0\n",
       "Upper Middle     10.016436  1.0  99999.0"
      ]
     },
     "execution_count": 68,
     "metadata": {},
     "output_type": "execute_result"
    }
   ],
   "source": [
    "# Income category expenditure aggregation\n",
    "\n",
    "custs.groupby('income_category').agg({'prices' : ['mean', 'min', 'max']})"
   ]
  },
  {
   "cell_type": "code",
   "execution_count": 69,
   "id": "897748a3",
   "metadata": {},
   "outputs": [
    {
     "data": {
      "text/html": [
       "<div>\n",
       "<style scoped>\n",
       "    .dataframe tbody tr th:only-of-type {\n",
       "        vertical-align: middle;\n",
       "    }\n",
       "\n",
       "    .dataframe tbody tr th {\n",
       "        vertical-align: top;\n",
       "    }\n",
       "\n",
       "    .dataframe thead tr th {\n",
       "        text-align: left;\n",
       "    }\n",
       "\n",
       "    .dataframe thead tr:last-of-type th {\n",
       "        text-align: right;\n",
       "    }\n",
       "</style>\n",
       "<table border=\"1\" class=\"dataframe\">\n",
       "  <thead>\n",
       "    <tr>\n",
       "      <th></th>\n",
       "      <th colspan=\"3\" halign=\"left\">add_to_cart_order</th>\n",
       "    </tr>\n",
       "    <tr>\n",
       "      <th></th>\n",
       "      <th>mean</th>\n",
       "      <th>min</th>\n",
       "      <th>max</th>\n",
       "    </tr>\n",
       "    <tr>\n",
       "      <th>income_category</th>\n",
       "      <th></th>\n",
       "      <th></th>\n",
       "      <th></th>\n",
       "    </tr>\n",
       "  </thead>\n",
       "  <tbody>\n",
       "    <tr>\n",
       "      <th>High</th>\n",
       "      <td>8.480898</td>\n",
       "      <td>1</td>\n",
       "      <td>121</td>\n",
       "    </tr>\n",
       "    <tr>\n",
       "      <th>Low</th>\n",
       "      <td>7.965765</td>\n",
       "      <td>1</td>\n",
       "      <td>137</td>\n",
       "    </tr>\n",
       "    <tr>\n",
       "      <th>Middle</th>\n",
       "      <td>8.528310</td>\n",
       "      <td>1</td>\n",
       "      <td>114</td>\n",
       "    </tr>\n",
       "    <tr>\n",
       "      <th>Upper Middle</th>\n",
       "      <td>8.532210</td>\n",
       "      <td>1</td>\n",
       "      <td>145</td>\n",
       "    </tr>\n",
       "  </tbody>\n",
       "</table>\n",
       "</div>"
      ],
      "text/plain": [
       "                add_to_cart_order         \n",
       "                             mean min  max\n",
       "income_category                           \n",
       "High                     8.480898   1  121\n",
       "Low                      7.965765   1  137\n",
       "Middle                   8.528310   1  114\n",
       "Upper Middle             8.532210   1  145"
      ]
     },
     "execution_count": 69,
     "metadata": {},
     "output_type": "execute_result"
    }
   ],
   "source": [
    "# Income category usage frequency aggregation\n",
    "\n",
    "custs.groupby('income_category').agg({'add_to_cart_order' : ['mean', 'min', 'max']})"
   ]
  },
  {
   "cell_type": "code",
   "execution_count": 70,
   "id": "e08dc994",
   "metadata": {},
   "outputs": [
    {
     "data": {
      "text/html": [
       "<div>\n",
       "<style scoped>\n",
       "    .dataframe tbody tr th:only-of-type {\n",
       "        vertical-align: middle;\n",
       "    }\n",
       "\n",
       "    .dataframe tbody tr th {\n",
       "        vertical-align: top;\n",
       "    }\n",
       "\n",
       "    .dataframe thead tr th {\n",
       "        text-align: left;\n",
       "    }\n",
       "\n",
       "    .dataframe thead tr:last-of-type th {\n",
       "        text-align: right;\n",
       "    }\n",
       "</style>\n",
       "<table border=\"1\" class=\"dataframe\">\n",
       "  <thead>\n",
       "    <tr>\n",
       "      <th></th>\n",
       "      <th colspan=\"3\" halign=\"left\">add_to_cart_order</th>\n",
       "    </tr>\n",
       "    <tr>\n",
       "      <th></th>\n",
       "      <th>mean</th>\n",
       "      <th>min</th>\n",
       "      <th>max</th>\n",
       "    </tr>\n",
       "    <tr>\n",
       "      <th>order_time_habit</th>\n",
       "      <th></th>\n",
       "      <th></th>\n",
       "      <th></th>\n",
       "    </tr>\n",
       "  </thead>\n",
       "  <tbody>\n",
       "    <tr>\n",
       "      <th>Early bird</th>\n",
       "      <td>8.541485</td>\n",
       "      <td>1</td>\n",
       "      <td>93</td>\n",
       "    </tr>\n",
       "    <tr>\n",
       "      <th>Night owl</th>\n",
       "      <td>8.614131</td>\n",
       "      <td>1</td>\n",
       "      <td>109</td>\n",
       "    </tr>\n",
       "    <tr>\n",
       "      <th>Regular</th>\n",
       "      <td>8.339969</td>\n",
       "      <td>1</td>\n",
       "      <td>145</td>\n",
       "    </tr>\n",
       "  </tbody>\n",
       "</table>\n",
       "</div>"
      ],
      "text/plain": [
       "                 add_to_cart_order         \n",
       "                              mean min  max\n",
       "order_time_habit                           \n",
       "Early bird                8.541485   1   93\n",
       "Night owl                 8.614131   1  109\n",
       "Regular                   8.339969   1  145"
      ]
     },
     "execution_count": 70,
     "metadata": {},
     "output_type": "execute_result"
    }
   ],
   "source": [
    "# Order-time habit with usage frequency aggregation\n",
    "\n",
    "custs.groupby('order_time_habit').agg({'add_to_cart_order' : ['mean', 'min', 'max']})"
   ]
  },
  {
   "cell_type": "code",
   "execution_count": 71,
   "id": "5f959b98",
   "metadata": {},
   "outputs": [
    {
     "data": {
      "text/html": [
       "<div>\n",
       "<style scoped>\n",
       "    .dataframe tbody tr th:only-of-type {\n",
       "        vertical-align: middle;\n",
       "    }\n",
       "\n",
       "    .dataframe tbody tr th {\n",
       "        vertical-align: top;\n",
       "    }\n",
       "\n",
       "    .dataframe thead tr th {\n",
       "        text-align: left;\n",
       "    }\n",
       "\n",
       "    .dataframe thead tr:last-of-type th {\n",
       "        text-align: right;\n",
       "    }\n",
       "</style>\n",
       "<table border=\"1\" class=\"dataframe\">\n",
       "  <thead>\n",
       "    <tr>\n",
       "      <th></th>\n",
       "      <th colspan=\"3\" halign=\"left\">prices</th>\n",
       "    </tr>\n",
       "    <tr>\n",
       "      <th></th>\n",
       "      <th>mean</th>\n",
       "      <th>min</th>\n",
       "      <th>max</th>\n",
       "    </tr>\n",
       "    <tr>\n",
       "      <th>order_time_habit</th>\n",
       "      <th></th>\n",
       "      <th></th>\n",
       "      <th></th>\n",
       "    </tr>\n",
       "  </thead>\n",
       "  <tbody>\n",
       "    <tr>\n",
       "      <th>Early bird</th>\n",
       "      <td>12.295262</td>\n",
       "      <td>1.0</td>\n",
       "      <td>99999.0</td>\n",
       "    </tr>\n",
       "    <tr>\n",
       "      <th>Night owl</th>\n",
       "      <td>11.453581</td>\n",
       "      <td>1.0</td>\n",
       "      <td>99999.0</td>\n",
       "    </tr>\n",
       "    <tr>\n",
       "      <th>Regular</th>\n",
       "      <td>11.904064</td>\n",
       "      <td>1.0</td>\n",
       "      <td>99999.0</td>\n",
       "    </tr>\n",
       "  </tbody>\n",
       "</table>\n",
       "</div>"
      ],
      "text/plain": [
       "                     prices              \n",
       "                       mean  min      max\n",
       "order_time_habit                         \n",
       "Early bird        12.295262  1.0  99999.0\n",
       "Night owl         11.453581  1.0  99999.0\n",
       "Regular           11.904064  1.0  99999.0"
      ]
     },
     "execution_count": 71,
     "metadata": {},
     "output_type": "execute_result"
    }
   ],
   "source": [
    "# Order-time habit with expenditure aggregation\n",
    "\n",
    "custs.groupby('order_time_habit').agg({'prices' : ['mean', 'min', 'max']})"
   ]
  },
  {
   "cell_type": "code",
   "execution_count": 72,
   "id": "1f782971",
   "metadata": {},
   "outputs": [
    {
     "data": {
      "text/html": [
       "<div>\n",
       "<style scoped>\n",
       "    .dataframe tbody tr th:only-of-type {\n",
       "        vertical-align: middle;\n",
       "    }\n",
       "\n",
       "    .dataframe tbody tr th {\n",
       "        vertical-align: top;\n",
       "    }\n",
       "\n",
       "    .dataframe thead tr th {\n",
       "        text-align: left;\n",
       "    }\n",
       "\n",
       "    .dataframe thead tr:last-of-type th {\n",
       "        text-align: right;\n",
       "    }\n",
       "</style>\n",
       "<table border=\"1\" class=\"dataframe\">\n",
       "  <thead>\n",
       "    <tr>\n",
       "      <th></th>\n",
       "      <th colspan=\"3\" halign=\"left\">add_to_cart_order</th>\n",
       "    </tr>\n",
       "    <tr>\n",
       "      <th></th>\n",
       "      <th>mean</th>\n",
       "      <th>min</th>\n",
       "      <th>max</th>\n",
       "    </tr>\n",
       "    <tr>\n",
       "      <th>snacks_eater</th>\n",
       "      <th></th>\n",
       "      <th></th>\n",
       "      <th></th>\n",
       "    </tr>\n",
       "  </thead>\n",
       "  <tbody>\n",
       "    <tr>\n",
       "      <th>No</th>\n",
       "      <td>8.280980</td>\n",
       "      <td>1</td>\n",
       "      <td>145</td>\n",
       "    </tr>\n",
       "    <tr>\n",
       "      <th>Yes</th>\n",
       "      <td>9.199468</td>\n",
       "      <td>1</td>\n",
       "      <td>144</td>\n",
       "    </tr>\n",
       "  </tbody>\n",
       "</table>\n",
       "</div>"
      ],
      "text/plain": [
       "             add_to_cart_order         \n",
       "                          mean min  max\n",
       "snacks_eater                           \n",
       "No                    8.280980   1  145\n",
       "Yes                   9.199468   1  144"
      ]
     },
     "execution_count": 72,
     "metadata": {},
     "output_type": "execute_result"
    }
   ],
   "source": [
    "# Snacks eater in usage frequency aggregation\n",
    "\n",
    "custs.groupby('snacks_eater').agg({'add_to_cart_order' : ['mean', 'min', 'max']})"
   ]
  },
  {
   "cell_type": "code",
   "execution_count": 73,
   "id": "a5db2940",
   "metadata": {},
   "outputs": [
    {
     "data": {
      "text/html": [
       "<div>\n",
       "<style scoped>\n",
       "    .dataframe tbody tr th:only-of-type {\n",
       "        vertical-align: middle;\n",
       "    }\n",
       "\n",
       "    .dataframe tbody tr th {\n",
       "        vertical-align: top;\n",
       "    }\n",
       "\n",
       "    .dataframe thead tr th {\n",
       "        text-align: left;\n",
       "    }\n",
       "\n",
       "    .dataframe thead tr:last-of-type th {\n",
       "        text-align: right;\n",
       "    }\n",
       "</style>\n",
       "<table border=\"1\" class=\"dataframe\">\n",
       "  <thead>\n",
       "    <tr>\n",
       "      <th></th>\n",
       "      <th colspan=\"3\" halign=\"left\">prices</th>\n",
       "    </tr>\n",
       "    <tr>\n",
       "      <th></th>\n",
       "      <th>mean</th>\n",
       "      <th>min</th>\n",
       "      <th>max</th>\n",
       "    </tr>\n",
       "    <tr>\n",
       "      <th>snacks_eater</th>\n",
       "      <th></th>\n",
       "      <th></th>\n",
       "      <th></th>\n",
       "    </tr>\n",
       "  </thead>\n",
       "  <tbody>\n",
       "    <tr>\n",
       "      <th>No</th>\n",
       "      <td>12.684813</td>\n",
       "      <td>1.0</td>\n",
       "      <td>99999.0</td>\n",
       "    </tr>\n",
       "    <tr>\n",
       "      <th>Yes</th>\n",
       "      <td>4.275555</td>\n",
       "      <td>1.6</td>\n",
       "      <td>7.0</td>\n",
       "    </tr>\n",
       "  </tbody>\n",
       "</table>\n",
       "</div>"
      ],
      "text/plain": [
       "                 prices              \n",
       "                   mean  min      max\n",
       "snacks_eater                         \n",
       "No            12.684813  1.0  99999.0\n",
       "Yes            4.275555  1.6      7.0"
      ]
     },
     "execution_count": 73,
     "metadata": {},
     "output_type": "execute_result"
    }
   ],
   "source": [
    "# Snacks eater with expenditure aggregation\n",
    "\n",
    "custs.groupby('snacks_eater').agg({'prices' : ['mean', 'min', 'max']})"
   ]
  },
  {
   "cell_type": "code",
   "execution_count": 74,
   "id": "05d6cedd",
   "metadata": {},
   "outputs": [
    {
     "data": {
      "text/html": [
       "<div>\n",
       "<style scoped>\n",
       "    .dataframe tbody tr th:only-of-type {\n",
       "        vertical-align: middle;\n",
       "    }\n",
       "\n",
       "    .dataframe tbody tr th {\n",
       "        vertical-align: top;\n",
       "    }\n",
       "\n",
       "    .dataframe thead tr th {\n",
       "        text-align: left;\n",
       "    }\n",
       "\n",
       "    .dataframe thead tr:last-of-type th {\n",
       "        text-align: right;\n",
       "    }\n",
       "</style>\n",
       "<table border=\"1\" class=\"dataframe\">\n",
       "  <thead>\n",
       "    <tr>\n",
       "      <th></th>\n",
       "      <th colspan=\"3\" halign=\"left\">add_to_cart_order</th>\n",
       "    </tr>\n",
       "    <tr>\n",
       "      <th></th>\n",
       "      <th>mean</th>\n",
       "      <th>min</th>\n",
       "      <th>max</th>\n",
       "    </tr>\n",
       "    <tr>\n",
       "      <th>loyalty_flag</th>\n",
       "      <th></th>\n",
       "      <th></th>\n",
       "      <th></th>\n",
       "    </tr>\n",
       "  </thead>\n",
       "  <tbody>\n",
       "    <tr>\n",
       "      <th>Loyal customer</th>\n",
       "      <td>8.284024</td>\n",
       "      <td>1</td>\n",
       "      <td>137</td>\n",
       "    </tr>\n",
       "    <tr>\n",
       "      <th>New customer</th>\n",
       "      <td>8.311567</td>\n",
       "      <td>1</td>\n",
       "      <td>102</td>\n",
       "    </tr>\n",
       "    <tr>\n",
       "      <th>Regular customer</th>\n",
       "      <td>8.429793</td>\n",
       "      <td>1</td>\n",
       "      <td>145</td>\n",
       "    </tr>\n",
       "  </tbody>\n",
       "</table>\n",
       "</div>"
      ],
      "text/plain": [
       "                 add_to_cart_order         \n",
       "                              mean min  max\n",
       "loyalty_flag                               \n",
       "Loyal customer            8.284024   1  137\n",
       "New customer              8.311567   1  102\n",
       "Regular customer          8.429793   1  145"
      ]
     },
     "execution_count": 74,
     "metadata": {},
     "output_type": "execute_result"
    }
   ],
   "source": [
    "# Loyalty status in usage frequency aggregation\n",
    "\n",
    "custs.groupby('loyalty_flag').agg({'add_to_cart_order' : ['mean', 'min', 'max']})"
   ]
  },
  {
   "cell_type": "markdown",
   "id": "4f638606",
   "metadata": {},
   "source": [
    "# 8. Customer profile comparison in regions and departments"
   ]
  },
  {
   "cell_type": "code",
   "execution_count": 75,
   "id": "f07c1e63",
   "metadata": {},
   "outputs": [
    {
     "data": {
      "text/html": [
       "<div>\n",
       "<style scoped>\n",
       "    .dataframe tbody tr th:only-of-type {\n",
       "        vertical-align: middle;\n",
       "    }\n",
       "\n",
       "    .dataframe tbody tr th {\n",
       "        vertical-align: top;\n",
       "    }\n",
       "\n",
       "    .dataframe thead th {\n",
       "        text-align: right;\n",
       "    }\n",
       "</style>\n",
       "<table border=\"1\" class=\"dataframe\">\n",
       "  <thead>\n",
       "    <tr style=\"text-align: right;\">\n",
       "      <th>region</th>\n",
       "      <th>Midwest</th>\n",
       "      <th>Northeast</th>\n",
       "      <th>South</th>\n",
       "      <th>West</th>\n",
       "    </tr>\n",
       "    <tr>\n",
       "      <th>department</th>\n",
       "      <th></th>\n",
       "      <th></th>\n",
       "      <th></th>\n",
       "      <th></th>\n",
       "    </tr>\n",
       "  </thead>\n",
       "  <tbody>\n",
       "    <tr>\n",
       "      <th>alcohol</th>\n",
       "      <td>34043</td>\n",
       "      <td>25017</td>\n",
       "      <td>48813</td>\n",
       "      <td>36754</td>\n",
       "    </tr>\n",
       "    <tr>\n",
       "      <th>babies</th>\n",
       "      <td>95741</td>\n",
       "      <td>72712</td>\n",
       "      <td>139511</td>\n",
       "      <td>102428</td>\n",
       "    </tr>\n",
       "    <tr>\n",
       "      <th>bakery</th>\n",
       "      <td>261753</td>\n",
       "      <td>199300</td>\n",
       "      <td>371620</td>\n",
       "      <td>288155</td>\n",
       "    </tr>\n",
       "    <tr>\n",
       "      <th>beverages</th>\n",
       "      <td>598979</td>\n",
       "      <td>462929</td>\n",
       "      <td>859419</td>\n",
       "      <td>650574</td>\n",
       "    </tr>\n",
       "    <tr>\n",
       "      <th>breakfast</th>\n",
       "      <td>156155</td>\n",
       "      <td>117904</td>\n",
       "      <td>223172</td>\n",
       "      <td>173619</td>\n",
       "    </tr>\n",
       "    <tr>\n",
       "      <th>bulk</th>\n",
       "      <td>7929</td>\n",
       "      <td>5599</td>\n",
       "      <td>11180</td>\n",
       "      <td>8743</td>\n",
       "    </tr>\n",
       "    <tr>\n",
       "      <th>canned goods</th>\n",
       "      <td>237459</td>\n",
       "      <td>176936</td>\n",
       "      <td>337458</td>\n",
       "      <td>260221</td>\n",
       "    </tr>\n",
       "    <tr>\n",
       "      <th>dairy eggs</th>\n",
       "      <td>1212490</td>\n",
       "      <td>914616</td>\n",
       "      <td>1723016</td>\n",
       "      <td>1327060</td>\n",
       "    </tr>\n",
       "    <tr>\n",
       "      <th>deli</th>\n",
       "      <td>234464</td>\n",
       "      <td>178398</td>\n",
       "      <td>333620</td>\n",
       "      <td>257352</td>\n",
       "    </tr>\n",
       "    <tr>\n",
       "      <th>dry goods pasta</th>\n",
       "      <td>193463</td>\n",
       "      <td>143817</td>\n",
       "      <td>272813</td>\n",
       "      <td>212043</td>\n",
       "    </tr>\n",
       "    <tr>\n",
       "      <th>frozen</th>\n",
       "      <td>498225</td>\n",
       "      <td>370436</td>\n",
       "      <td>709906</td>\n",
       "      <td>543164</td>\n",
       "    </tr>\n",
       "    <tr>\n",
       "      <th>household</th>\n",
       "      <td>166992</td>\n",
       "      <td>124604</td>\n",
       "      <td>230061</td>\n",
       "      <td>178200</td>\n",
       "    </tr>\n",
       "    <tr>\n",
       "      <th>international</th>\n",
       "      <td>60666</td>\n",
       "      <td>44678</td>\n",
       "      <td>84649</td>\n",
       "      <td>65998</td>\n",
       "    </tr>\n",
       "    <tr>\n",
       "      <th>meat seafood</th>\n",
       "      <td>158260</td>\n",
       "      <td>118571</td>\n",
       "      <td>224120</td>\n",
       "      <td>173830</td>\n",
       "    </tr>\n",
       "    <tr>\n",
       "      <th>missing</th>\n",
       "      <td>15563</td>\n",
       "      <td>11512</td>\n",
       "      <td>21787</td>\n",
       "      <td>15906</td>\n",
       "    </tr>\n",
       "    <tr>\n",
       "      <th>other</th>\n",
       "      <td>7983</td>\n",
       "      <td>6268</td>\n",
       "      <td>11579</td>\n",
       "      <td>8581</td>\n",
       "    </tr>\n",
       "    <tr>\n",
       "      <th>pantry</th>\n",
       "      <td>420334</td>\n",
       "      <td>312731</td>\n",
       "      <td>591754</td>\n",
       "      <td>457886</td>\n",
       "    </tr>\n",
       "    <tr>\n",
       "      <th>personal care</th>\n",
       "      <td>100398</td>\n",
       "      <td>74765</td>\n",
       "      <td>142496</td>\n",
       "      <td>106647</td>\n",
       "    </tr>\n",
       "    <tr>\n",
       "      <th>pets</th>\n",
       "      <td>21358</td>\n",
       "      <td>17734</td>\n",
       "      <td>29909</td>\n",
       "      <td>24059</td>\n",
       "    </tr>\n",
       "    <tr>\n",
       "      <th>produce</th>\n",
       "      <td>2134115</td>\n",
       "      <td>1593004</td>\n",
       "      <td>3027476</td>\n",
       "      <td>2324678</td>\n",
       "    </tr>\n",
       "    <tr>\n",
       "      <th>snacks</th>\n",
       "      <td>645143</td>\n",
       "      <td>493154</td>\n",
       "      <td>916780</td>\n",
       "      <td>711329</td>\n",
       "    </tr>\n",
       "  </tbody>\n",
       "</table>\n",
       "</div>"
      ],
      "text/plain": [
       "region           Midwest  Northeast    South     West\n",
       "department                                           \n",
       "alcohol            34043      25017    48813    36754\n",
       "babies             95741      72712   139511   102428\n",
       "bakery            261753     199300   371620   288155\n",
       "beverages         598979     462929   859419   650574\n",
       "breakfast         156155     117904   223172   173619\n",
       "bulk                7929       5599    11180     8743\n",
       "canned goods      237459     176936   337458   260221\n",
       "dairy eggs       1212490     914616  1723016  1327060\n",
       "deli              234464     178398   333620   257352\n",
       "dry goods pasta   193463     143817   272813   212043\n",
       "frozen            498225     370436   709906   543164\n",
       "household         166992     124604   230061   178200\n",
       "international      60666      44678    84649    65998\n",
       "meat seafood      158260     118571   224120   173830\n",
       "missing            15563      11512    21787    15906\n",
       "other               7983       6268    11579     8581\n",
       "pantry            420334     312731   591754   457886\n",
       "personal care     100398      74765   142496   106647\n",
       "pets               21358      17734    29909    24059\n",
       "produce          2134115    1593004  3027476  2324678\n",
       "snacks            645143     493154   916780   711329"
      ]
     },
     "execution_count": 75,
     "metadata": {},
     "output_type": "execute_result"
    }
   ],
   "source": [
    "# Comparison in regions and departments\n",
    "\n",
    "crosstab = pd.crosstab(custs['department'], custs['region'], dropna = False)\n",
    "crosstab"
   ]
  },
  {
   "cell_type": "code",
   "execution_count": 76,
   "id": "c4aaef97",
   "metadata": {},
   "outputs": [
    {
     "data": {
      "text/html": [
       "<div>\n",
       "<style scoped>\n",
       "    .dataframe tbody tr th:only-of-type {\n",
       "        vertical-align: middle;\n",
       "    }\n",
       "\n",
       "    .dataframe tbody tr th {\n",
       "        vertical-align: top;\n",
       "    }\n",
       "\n",
       "    .dataframe thead th {\n",
       "        text-align: right;\n",
       "    }\n",
       "</style>\n",
       "<table border=\"1\" class=\"dataframe\">\n",
       "  <thead>\n",
       "    <tr style=\"text-align: right;\">\n",
       "      <th>order_time_habit</th>\n",
       "      <th>Early bird</th>\n",
       "      <th>Night owl</th>\n",
       "      <th>Regular</th>\n",
       "    </tr>\n",
       "    <tr>\n",
       "      <th>department</th>\n",
       "      <th></th>\n",
       "      <th></th>\n",
       "      <th></th>\n",
       "    </tr>\n",
       "  </thead>\n",
       "  <tbody>\n",
       "    <tr>\n",
       "      <th>alcohol</th>\n",
       "      <td>7972</td>\n",
       "      <td>1356</td>\n",
       "      <td>135299</td>\n",
       "    </tr>\n",
       "    <tr>\n",
       "      <th>babies</th>\n",
       "      <td>50188</td>\n",
       "      <td>5009</td>\n",
       "      <td>355195</td>\n",
       "    </tr>\n",
       "    <tr>\n",
       "      <th>bakery</th>\n",
       "      <td>107807</td>\n",
       "      <td>16374</td>\n",
       "      <td>996647</td>\n",
       "    </tr>\n",
       "    <tr>\n",
       "      <th>beverages</th>\n",
       "      <td>231045</td>\n",
       "      <td>41112</td>\n",
       "      <td>2299744</td>\n",
       "    </tr>\n",
       "    <tr>\n",
       "      <th>breakfast</th>\n",
       "      <td>68714</td>\n",
       "      <td>9734</td>\n",
       "      <td>592402</td>\n",
       "    </tr>\n",
       "    <tr>\n",
       "      <th>bulk</th>\n",
       "      <td>3057</td>\n",
       "      <td>506</td>\n",
       "      <td>29888</td>\n",
       "    </tr>\n",
       "    <tr>\n",
       "      <th>canned goods</th>\n",
       "      <td>88259</td>\n",
       "      <td>16065</td>\n",
       "      <td>907750</td>\n",
       "    </tr>\n",
       "    <tr>\n",
       "      <th>dairy eggs</th>\n",
       "      <td>515309</td>\n",
       "      <td>75559</td>\n",
       "      <td>4586314</td>\n",
       "    </tr>\n",
       "    <tr>\n",
       "      <th>deli</th>\n",
       "      <td>88984</td>\n",
       "      <td>15308</td>\n",
       "      <td>899542</td>\n",
       "    </tr>\n",
       "    <tr>\n",
       "      <th>dry goods pasta</th>\n",
       "      <td>73052</td>\n",
       "      <td>12728</td>\n",
       "      <td>736356</td>\n",
       "    </tr>\n",
       "    <tr>\n",
       "      <th>frozen</th>\n",
       "      <td>180465</td>\n",
       "      <td>36157</td>\n",
       "      <td>1905109</td>\n",
       "    </tr>\n",
       "    <tr>\n",
       "      <th>household</th>\n",
       "      <td>66639</td>\n",
       "      <td>12128</td>\n",
       "      <td>621090</td>\n",
       "    </tr>\n",
       "    <tr>\n",
       "      <th>international</th>\n",
       "      <td>21155</td>\n",
       "      <td>4224</td>\n",
       "      <td>230612</td>\n",
       "    </tr>\n",
       "    <tr>\n",
       "      <th>meat seafood</th>\n",
       "      <td>62217</td>\n",
       "      <td>10403</td>\n",
       "      <td>602161</td>\n",
       "    </tr>\n",
       "    <tr>\n",
       "      <th>missing</th>\n",
       "      <td>5804</td>\n",
       "      <td>1236</td>\n",
       "      <td>57728</td>\n",
       "    </tr>\n",
       "    <tr>\n",
       "      <th>other</th>\n",
       "      <td>3017</td>\n",
       "      <td>603</td>\n",
       "      <td>30791</td>\n",
       "    </tr>\n",
       "    <tr>\n",
       "      <th>pantry</th>\n",
       "      <td>156670</td>\n",
       "      <td>30116</td>\n",
       "      <td>1595919</td>\n",
       "    </tr>\n",
       "    <tr>\n",
       "      <th>personal care</th>\n",
       "      <td>39030</td>\n",
       "      <td>7939</td>\n",
       "      <td>377337</td>\n",
       "    </tr>\n",
       "    <tr>\n",
       "      <th>pets</th>\n",
       "      <td>7937</td>\n",
       "      <td>1826</td>\n",
       "      <td>83297</td>\n",
       "    </tr>\n",
       "    <tr>\n",
       "      <th>produce</th>\n",
       "      <td>865693</td>\n",
       "      <td>145797</td>\n",
       "      <td>8067783</td>\n",
       "    </tr>\n",
       "    <tr>\n",
       "      <th>snacks</th>\n",
       "      <td>244740</td>\n",
       "      <td>38733</td>\n",
       "      <td>2482933</td>\n",
       "    </tr>\n",
       "  </tbody>\n",
       "</table>\n",
       "</div>"
      ],
      "text/plain": [
       "order_time_habit  Early bird  Night owl  Regular\n",
       "department                                      \n",
       "alcohol                 7972       1356   135299\n",
       "babies                 50188       5009   355195\n",
       "bakery                107807      16374   996647\n",
       "beverages             231045      41112  2299744\n",
       "breakfast              68714       9734   592402\n",
       "bulk                    3057        506    29888\n",
       "canned goods           88259      16065   907750\n",
       "dairy eggs            515309      75559  4586314\n",
       "deli                   88984      15308   899542\n",
       "dry goods pasta        73052      12728   736356\n",
       "frozen                180465      36157  1905109\n",
       "household              66639      12128   621090\n",
       "international          21155       4224   230612\n",
       "meat seafood           62217      10403   602161\n",
       "missing                 5804       1236    57728\n",
       "other                   3017        603    30791\n",
       "pantry                156670      30116  1595919\n",
       "personal care          39030       7939   377337\n",
       "pets                    7937       1826    83297\n",
       "produce               865693     145797  8067783\n",
       "snacks                244740      38733  2482933"
      ]
     },
     "execution_count": 76,
     "metadata": {},
     "output_type": "execute_result"
    }
   ],
   "source": [
    "# Comparison in 'order_time_habit' and 'departments'\n",
    "\n",
    "ct_hbt_dept = pd.crosstab(custs['department'], custs['order_time_habit'], dropna = False)\n",
    "ct_hbt_dept"
   ]
  },
  {
   "cell_type": "code",
   "execution_count": 77,
   "id": "8708e368",
   "metadata": {},
   "outputs": [
    {
     "data": {
      "text/plain": [
       "(-1.0, 22.0)"
      ]
     },
     "execution_count": 77,
     "metadata": {},
     "output_type": "execute_result"
    },
    {
     "data": {
      "image/png": "[encoded data removed]",
      "text/plain": [
       "<Figure size 640x480 with 1 Axes>"
      ]
     },
     "metadata": {},
     "output_type": "display_data"
    }
   ],
   "source": [
    "# Create a stacked bar\n",
    "\n",
    "bar_hbt_dept = ct_hbt_dept.plot(kind = 'bar', stacked = True, colormap = 'tab20b')\n",
    "bar_hbt_dept.legend(title= 'Habits', bbox_to_anchor = (0.02, 1.0), loc ='upper left', labels = ['Early bird', 'Night Owl', 'Regular'], fontsize = 9)\n",
    "plt.title('Oder Time Habits in Different Departments', fontsize = 18, pad=20)\n",
    "plt.ylabel('Frequency (in millions)', fontsize = 12)\n",
    "plt.xlabel('Departments',  fontsize = 12)\n",
    "plt.xticks(rotation=80, fontsize = 8)\n",
    "\n",
    "# Set the y axis limit to increase the axis length\n",
    "\n",
    "plt.ylim(0, 4000000)\n",
    "plt.xlim(-1, 22)"
   ]
  },
  {
   "cell_type": "code",
   "execution_count": 78,
   "id": "92045f66",
   "metadata": {},
   "outputs": [
    {
     "data": {
      "text/html": [
       "<div>\n",
       "<style scoped>\n",
       "    .dataframe tbody tr th:only-of-type {\n",
       "        vertical-align: middle;\n",
       "    }\n",
       "\n",
       "    .dataframe tbody tr th {\n",
       "        vertical-align: top;\n",
       "    }\n",
       "\n",
       "    .dataframe thead th {\n",
       "        text-align: right;\n",
       "    }\n",
       "</style>\n",
       "<table border=\"1\" class=\"dataframe\">\n",
       "  <thead>\n",
       "    <tr style=\"text-align: right;\">\n",
       "      <th>order_time_habit</th>\n",
       "      <th>Early bird</th>\n",
       "      <th>Night owl</th>\n",
       "      <th>Regular</th>\n",
       "    </tr>\n",
       "    <tr>\n",
       "      <th>region</th>\n",
       "      <th></th>\n",
       "      <th></th>\n",
       "      <th></th>\n",
       "    </tr>\n",
       "  </thead>\n",
       "  <tbody>\n",
       "    <tr>\n",
       "      <th>Midwest</th>\n",
       "      <td>670594</td>\n",
       "      <td>113520</td>\n",
       "      <td>6477399</td>\n",
       "    </tr>\n",
       "    <tr>\n",
       "      <th>Northeast</th>\n",
       "      <td>511923</td>\n",
       "      <td>86857</td>\n",
       "      <td>4865905</td>\n",
       "    </tr>\n",
       "    <tr>\n",
       "      <th>South</th>\n",
       "      <td>973296</td>\n",
       "      <td>159939</td>\n",
       "      <td>9177904</td>\n",
       "    </tr>\n",
       "    <tr>\n",
       "      <th>West</th>\n",
       "      <td>731941</td>\n",
       "      <td>122597</td>\n",
       "      <td>7072689</td>\n",
       "    </tr>\n",
       "  </tbody>\n",
       "</table>\n",
       "</div>"
      ],
      "text/plain": [
       "order_time_habit  Early bird  Night owl  Regular\n",
       "region                                          \n",
       "Midwest               670594     113520  6477399\n",
       "Northeast             511923      86857  4865905\n",
       "South                 973296     159939  9177904\n",
       "West                  731941     122597  7072689"
      ]
     },
     "execution_count": 78,
     "metadata": {},
     "output_type": "execute_result"
    }
   ],
   "source": [
    "# Creating order_time_habit and region connection\n",
    "\n",
    "ct_habit = pd.crosstab(custs['region'], custs['order_time_habit'], dropna = False)\n",
    "ct_habit "
   ]
  },
  {
   "cell_type": "code",
   "execution_count": 79,
   "id": "c511dff3",
   "metadata": {},
   "outputs": [
    {
     "data": {
      "image/png": "[encoded data removed]",
      "text/plain": [
       "<Figure size 640x480 with 1 Axes>"
      ]
     },
     "metadata": {},
     "output_type": "display_data"
    }
   ],
   "source": [
    "# Plotting the stacked bar\n",
    "\n",
    "bar_hbt_reg = ct_habit.plot(kind = 'bar', stacked = False, colormap = 'tab10')\n",
    "bar_hbt_reg.legend(title = 'Habits', bbox_to_anchor = (0.02, 1.0), loc = 'upper left', labels=['Early bird', 'Night Owl', 'Regular'], fontsize = 9)\n",
    "plt.title('Ordering habits based on a customers loyalty status', fontsize = 18, pad=20)\n",
    "plt.ylabel('Frequency (in millions)', fontsize = 12)\n",
    "plt.xlabel('Regions',  fontsize = 12)\n",
    "plt.xticks(rotation=45)\n",
    "\n",
    "# Annotating the bar chart\n",
    "\n",
    "# Get the total for each row\n",
    "total = ct_habit.sum(axis=1)\n",
    "\n",
    "# Calculate the percent for each row\n",
    "per = ct_habit.div(total, axis=0).mul(100).round(1)\n",
    "\n",
    "# Iterate through the containers\n",
    "for c in bar_hbt_reg.containers:\n",
    "    \n",
    "    # Get the current segment label (a string); corresponds to column / legend\n",
    "    label = c.get_label()\n",
    "    \n",
    "    # Create custom labels with the bar height and the percent from the per column\n",
    "    labels = [f'{row}%'if v.get_height() > 0 else '' for v, row in zip(c,per[(label)])]\n",
    "    \n",
    "   # Add the annotation\n",
    "    bar_hbt_reg.bar_label(c, labels=labels, label_type='edge', fontsize = 8, rotation = 0,  fontweight= 'normal', padding = 2)  \n",
    "    \n",
    "    # Set the y axis limit to increase the axis length\n",
    "    plt.ylim(0, 10000000)\n",
    "  \n"
   ]
  },
  {
   "cell_type": "code",
   "execution_count": 80,
   "id": "b16cd505",
   "metadata": {},
   "outputs": [
    {
     "data": {
      "text/html": [
       "<div>\n",
       "<style scoped>\n",
       "    .dataframe tbody tr th:only-of-type {\n",
       "        vertical-align: middle;\n",
       "    }\n",
       "\n",
       "    .dataframe tbody tr th {\n",
       "        vertical-align: top;\n",
       "    }\n",
       "\n",
       "    .dataframe thead th {\n",
       "        text-align: right;\n",
       "    }\n",
       "</style>\n",
       "<table border=\"1\" class=\"dataframe\">\n",
       "  <thead>\n",
       "    <tr style=\"text-align: right;\">\n",
       "      <th>price_range_loc</th>\n",
       "      <th>High-range product</th>\n",
       "      <th>Low-range product</th>\n",
       "      <th>Mid-range product</th>\n",
       "    </tr>\n",
       "    <tr>\n",
       "      <th>department</th>\n",
       "      <th></th>\n",
       "      <th></th>\n",
       "      <th></th>\n",
       "    </tr>\n",
       "  </thead>\n",
       "  <tbody>\n",
       "    <tr>\n",
       "      <th>alcohol</th>\n",
       "      <td>0</td>\n",
       "      <td>33046</td>\n",
       "      <td>111581</td>\n",
       "    </tr>\n",
       "    <tr>\n",
       "      <th>babies</th>\n",
       "      <td>0</td>\n",
       "      <td>121484</td>\n",
       "      <td>288908</td>\n",
       "    </tr>\n",
       "    <tr>\n",
       "      <th>bakery</th>\n",
       "      <td>0</td>\n",
       "      <td>274986</td>\n",
       "      <td>845842</td>\n",
       "    </tr>\n",
       "    <tr>\n",
       "      <th>beverages</th>\n",
       "      <td>0</td>\n",
       "      <td>814697</td>\n",
       "      <td>1757204</td>\n",
       "    </tr>\n",
       "    <tr>\n",
       "      <th>breakfast</th>\n",
       "      <td>0</td>\n",
       "      <td>209185</td>\n",
       "      <td>461665</td>\n",
       "    </tr>\n",
       "    <tr>\n",
       "      <th>bulk</th>\n",
       "      <td>0</td>\n",
       "      <td>1181</td>\n",
       "      <td>32270</td>\n",
       "    </tr>\n",
       "    <tr>\n",
       "      <th>canned goods</th>\n",
       "      <td>0</td>\n",
       "      <td>281711</td>\n",
       "      <td>730363</td>\n",
       "    </tr>\n",
       "    <tr>\n",
       "      <th>dairy eggs</th>\n",
       "      <td>4877</td>\n",
       "      <td>1370908</td>\n",
       "      <td>3801397</td>\n",
       "    </tr>\n",
       "    <tr>\n",
       "      <th>deli</th>\n",
       "      <td>0</td>\n",
       "      <td>299220</td>\n",
       "      <td>704614</td>\n",
       "    </tr>\n",
       "    <tr>\n",
       "      <th>dry goods pasta</th>\n",
       "      <td>0</td>\n",
       "      <td>284346</td>\n",
       "      <td>537790</td>\n",
       "    </tr>\n",
       "    <tr>\n",
       "      <th>frozen</th>\n",
       "      <td>0</td>\n",
       "      <td>647617</td>\n",
       "      <td>1474114</td>\n",
       "    </tr>\n",
       "    <tr>\n",
       "      <th>household</th>\n",
       "      <td>0</td>\n",
       "      <td>245070</td>\n",
       "      <td>454787</td>\n",
       "    </tr>\n",
       "    <tr>\n",
       "      <th>international</th>\n",
       "      <td>0</td>\n",
       "      <td>73203</td>\n",
       "      <td>182788</td>\n",
       "    </tr>\n",
       "    <tr>\n",
       "      <th>meat seafood</th>\n",
       "      <td>392855</td>\n",
       "      <td>0</td>\n",
       "      <td>281926</td>\n",
       "    </tr>\n",
       "    <tr>\n",
       "      <th>missing</th>\n",
       "      <td>0</td>\n",
       "      <td>18516</td>\n",
       "      <td>46252</td>\n",
       "    </tr>\n",
       "    <tr>\n",
       "      <th>other</th>\n",
       "      <td>0</td>\n",
       "      <td>15259</td>\n",
       "      <td>19152</td>\n",
       "    </tr>\n",
       "    <tr>\n",
       "      <th>pantry</th>\n",
       "      <td>221</td>\n",
       "      <td>504521</td>\n",
       "      <td>1277963</td>\n",
       "    </tr>\n",
       "    <tr>\n",
       "      <th>personal care</th>\n",
       "      <td>0</td>\n",
       "      <td>123874</td>\n",
       "      <td>300432</td>\n",
       "    </tr>\n",
       "    <tr>\n",
       "      <th>pets</th>\n",
       "      <td>0</td>\n",
       "      <td>28165</td>\n",
       "      <td>64895</td>\n",
       "    </tr>\n",
       "    <tr>\n",
       "      <th>produce</th>\n",
       "      <td>0</td>\n",
       "      <td>2585708</td>\n",
       "      <td>6493565</td>\n",
       "    </tr>\n",
       "    <tr>\n",
       "      <th>snacks</th>\n",
       "      <td>0</td>\n",
       "      <td>1742143</td>\n",
       "      <td>1024263</td>\n",
       "    </tr>\n",
       "  </tbody>\n",
       "</table>\n",
       "</div>"
      ],
      "text/plain": [
       "price_range_loc  High-range product  Low-range product  Mid-range product\n",
       "department                                                               \n",
       "alcohol                           0              33046             111581\n",
       "babies                            0             121484             288908\n",
       "bakery                            0             274986             845842\n",
       "beverages                         0             814697            1757204\n",
       "breakfast                         0             209185             461665\n",
       "bulk                              0               1181              32270\n",
       "canned goods                      0             281711             730363\n",
       "dairy eggs                     4877            1370908            3801397\n",
       "deli                              0             299220             704614\n",
       "dry goods pasta                   0             284346             537790\n",
       "frozen                            0             647617            1474114\n",
       "household                         0             245070             454787\n",
       "international                     0              73203             182788\n",
       "meat seafood                 392855                  0             281926\n",
       "missing                           0              18516              46252\n",
       "other                             0              15259              19152\n",
       "pantry                          221             504521            1277963\n",
       "personal care                     0             123874             300432\n",
       "pets                              0              28165              64895\n",
       "produce                           0            2585708            6493565\n",
       "snacks                            0            1742143            1024263"
      ]
     },
     "execution_count": 80,
     "metadata": {},
     "output_type": "execute_result"
    }
   ],
   "source": [
    "# Comparing price ranges and departments\n",
    "\n",
    "ct_price_dept = pd.crosstab(custs['department'], custs['price_range_loc'], dropna = False)\n",
    "ct_price_dept"
   ]
  },
  {
   "cell_type": "code",
   "execution_count": 81,
   "id": "bd68f041",
   "metadata": {},
   "outputs": [
    {
     "data": {
      "text/plain": [
       "(array([ 0,  1,  2,  3,  4,  5,  6,  7,  8,  9, 10, 11, 12, 13, 14, 15, 16,\n",
       "        17, 18, 19, 20]),\n",
       " [Text(0, 0, 'alcohol'),\n",
       "  Text(1, 0, 'babies'),\n",
       "  Text(2, 0, 'bakery'),\n",
       "  Text(3, 0, 'beverages'),\n",
       "  Text(4, 0, 'breakfast'),\n",
       "  Text(5, 0, 'bulk'),\n",
       "  Text(6, 0, 'canned goods'),\n",
       "  Text(7, 0, 'dairy eggs'),\n",
       "  Text(8, 0, 'deli'),\n",
       "  Text(9, 0, 'dry goods pasta'),\n",
       "  Text(10, 0, 'frozen'),\n",
       "  Text(11, 0, 'household'),\n",
       "  Text(12, 0, 'international'),\n",
       "  Text(13, 0, 'meat seafood'),\n",
       "  Text(14, 0, 'missing'),\n",
       "  Text(15, 0, 'other'),\n",
       "  Text(16, 0, 'pantry'),\n",
       "  Text(17, 0, 'personal care'),\n",
       "  Text(18, 0, 'pets'),\n",
       "  Text(19, 0, 'produce'),\n",
       "  Text(20, 0, 'snacks')])"
      ]
     },
     "execution_count": 81,
     "metadata": {},
     "output_type": "execute_result"
    },
    {
     "data": {
      "image/png": "[encoded data removed]",
      "text/plain": [
       "<Figure size 1200x400 with 1 Axes>"
      ]
     },
     "metadata": {},
     "output_type": "display_data"
    }
   ],
   "source": [
    "bar_price_dept = ct_price_dept.plot(kind = 'bar', figsize=(12,4), rot = 0, colormap = 'tab10').legend(title = \"Price Range\", bbox_to_anchor = (1.0,1.0))\n",
    "plt.title('Price Ranges in Different Departments', fontsize = 18, pad = 25)\n",
    "plt.ylabel('Frequency (in millions)', fontsize = 12)\n",
    "plt.xlabel('Department',  fontsize = 14)\n",
    "plt.xticks(rotation = 85)"
   ]
  },
  {
   "cell_type": "code",
   "execution_count": 82,
   "id": "a9529930",
   "metadata": {},
   "outputs": [
    {
     "data": {
      "text/html": [
       "<div>\n",
       "<style scoped>\n",
       "    .dataframe tbody tr th:only-of-type {\n",
       "        vertical-align: middle;\n",
       "    }\n",
       "\n",
       "    .dataframe tbody tr th {\n",
       "        vertical-align: top;\n",
       "    }\n",
       "\n",
       "    .dataframe thead th {\n",
       "        text-align: right;\n",
       "    }\n",
       "</style>\n",
       "<table border=\"1\" class=\"dataframe\">\n",
       "  <thead>\n",
       "    <tr style=\"text-align: right;\">\n",
       "      <th>loyalty_flag</th>\n",
       "      <th>Loyal customer</th>\n",
       "      <th>New customer</th>\n",
       "      <th>Regular customer</th>\n",
       "    </tr>\n",
       "    <tr>\n",
       "      <th>region</th>\n",
       "      <th></th>\n",
       "      <th></th>\n",
       "      <th></th>\n",
       "    </tr>\n",
       "  </thead>\n",
       "  <tbody>\n",
       "    <tr>\n",
       "      <th>Midwest</th>\n",
       "      <td>2373774</td>\n",
       "      <td>1136761</td>\n",
       "      <td>3750978</td>\n",
       "    </tr>\n",
       "    <tr>\n",
       "      <th>Northeast</th>\n",
       "      <td>1841785</td>\n",
       "      <td>842156</td>\n",
       "      <td>2780744</td>\n",
       "    </tr>\n",
       "    <tr>\n",
       "      <th>South</th>\n",
       "      <td>3405844</td>\n",
       "      <td>1593664</td>\n",
       "      <td>5311631</td>\n",
       "    </tr>\n",
       "    <tr>\n",
       "      <th>West</th>\n",
       "      <td>2662690</td>\n",
       "      <td>1231114</td>\n",
       "      <td>4033423</td>\n",
       "    </tr>\n",
       "  </tbody>\n",
       "</table>\n",
       "</div>"
      ],
      "text/plain": [
       "loyalty_flag  Loyal customer  New customer  Regular customer\n",
       "region                                                      \n",
       "Midwest              2373774       1136761           3750978\n",
       "Northeast            1841785        842156           2780744\n",
       "South                3405844       1593664           5311631\n",
       "West                 2662690       1231114           4033423"
      ]
     },
     "execution_count": 82,
     "metadata": {},
     "output_type": "execute_result"
    }
   ],
   "source": [
    "# Comparing regions and loyalty status\n",
    "\n",
    "ct_reg_loy = pd.crosstab(custs['region'], custs['loyalty_flag'], dropna = False)\n",
    "ct_reg_loy"
   ]
  },
  {
   "cell_type": "code",
   "execution_count": 83,
   "id": "8f272949",
   "metadata": {},
   "outputs": [
    {
     "data": {
      "text/plain": [
       "Text(0.5, 0, 'Region')"
      ]
     },
     "execution_count": 83,
     "metadata": {},
     "output_type": "execute_result"
    },
    {
     "data": {
      "image/png": "[encoded data removed]",
      "text/plain": [
       "<Figure size 800x400 with 1 Axes>"
      ]
     },
     "metadata": {},
     "output_type": "display_data"
    }
   ],
   "source": [
    "# Create a bar chart\n",
    "\n",
    "bar_ct_reg_loy = ct_reg_loy.plot(kind = 'bar', figsize=(8,4), rot = 0, colormap = 'Dark2').legend(title = \"Loyalty Status\", bbox_to_anchor = (1.0,1.0))\n",
    "plt.title('Purchases by regional and loyalty status', fontsize = 18, pad = 25)\n",
    "plt.ylabel('Frequency (in millions)', fontsize = 12)\n",
    "plt.xlabel('Region',  fontsize = 14)"
   ]
  },
  {
   "cell_type": "code",
   "execution_count": 84,
   "id": "19688c0d",
   "metadata": {},
   "outputs": [
    {
     "data": {
      "text/html": [
       "<div>\n",
       "<style scoped>\n",
       "    .dataframe tbody tr th:only-of-type {\n",
       "        vertical-align: middle;\n",
       "    }\n",
       "\n",
       "    .dataframe tbody tr th {\n",
       "        vertical-align: top;\n",
       "    }\n",
       "\n",
       "    .dataframe thead th {\n",
       "        text-align: right;\n",
       "    }\n",
       "</style>\n",
       "<table border=\"1\" class=\"dataframe\">\n",
       "  <thead>\n",
       "    <tr style=\"text-align: right;\">\n",
       "      <th>loyalty_flag</th>\n",
       "      <th>Loyal customer</th>\n",
       "      <th>New customer</th>\n",
       "      <th>Regular customer</th>\n",
       "    </tr>\n",
       "    <tr>\n",
       "      <th>department</th>\n",
       "      <th></th>\n",
       "      <th></th>\n",
       "      <th></th>\n",
       "    </tr>\n",
       "  </thead>\n",
       "  <tbody>\n",
       "    <tr>\n",
       "      <th>alcohol</th>\n",
       "      <td>38723</td>\n",
       "      <td>28629</td>\n",
       "      <td>77275</td>\n",
       "    </tr>\n",
       "    <tr>\n",
       "      <th>babies</th>\n",
       "      <td>167108</td>\n",
       "      <td>46708</td>\n",
       "      <td>196576</td>\n",
       "    </tr>\n",
       "    <tr>\n",
       "      <th>bakery</th>\n",
       "      <td>379873</td>\n",
       "      <td>172104</td>\n",
       "      <td>568851</td>\n",
       "    </tr>\n",
       "    <tr>\n",
       "      <th>beverages</th>\n",
       "      <td>855017</td>\n",
       "      <td>396649</td>\n",
       "      <td>1320235</td>\n",
       "    </tr>\n",
       "    <tr>\n",
       "      <th>breakfast</th>\n",
       "      <td>221577</td>\n",
       "      <td>106179</td>\n",
       "      <td>343094</td>\n",
       "    </tr>\n",
       "    <tr>\n",
       "      <th>bulk</th>\n",
       "      <td>13834</td>\n",
       "      <td>4149</td>\n",
       "      <td>15468</td>\n",
       "    </tr>\n",
       "    <tr>\n",
       "      <th>canned goods</th>\n",
       "      <td>294594</td>\n",
       "      <td>180196</td>\n",
       "      <td>537284</td>\n",
       "    </tr>\n",
       "    <tr>\n",
       "      <th>dairy eggs</th>\n",
       "      <td>1830707</td>\n",
       "      <td>750056</td>\n",
       "      <td>2596419</td>\n",
       "    </tr>\n",
       "    <tr>\n",
       "      <th>deli</th>\n",
       "      <td>324046</td>\n",
       "      <td>158335</td>\n",
       "      <td>521453</td>\n",
       "    </tr>\n",
       "    <tr>\n",
       "      <th>dry goods pasta</th>\n",
       "      <td>242580</td>\n",
       "      <td>144836</td>\n",
       "      <td>434720</td>\n",
       "    </tr>\n",
       "    <tr>\n",
       "      <th>frozen</th>\n",
       "      <td>609460</td>\n",
       "      <td>372271</td>\n",
       "      <td>1140000</td>\n",
       "    </tr>\n",
       "    <tr>\n",
       "      <th>household</th>\n",
       "      <td>196873</td>\n",
       "      <td>128117</td>\n",
       "      <td>374867</td>\n",
       "    </tr>\n",
       "    <tr>\n",
       "      <th>international</th>\n",
       "      <td>78394</td>\n",
       "      <td>43841</td>\n",
       "      <td>133756</td>\n",
       "    </tr>\n",
       "    <tr>\n",
       "      <th>meat seafood</th>\n",
       "      <td>202480</td>\n",
       "      <td>112464</td>\n",
       "      <td>359837</td>\n",
       "    </tr>\n",
       "    <tr>\n",
       "      <th>missing</th>\n",
       "      <td>18350</td>\n",
       "      <td>12713</td>\n",
       "      <td>33705</td>\n",
       "    </tr>\n",
       "    <tr>\n",
       "      <th>other</th>\n",
       "      <td>10715</td>\n",
       "      <td>5839</td>\n",
       "      <td>17857</td>\n",
       "    </tr>\n",
       "    <tr>\n",
       "      <th>pantry</th>\n",
       "      <td>560402</td>\n",
       "      <td>299576</td>\n",
       "      <td>922727</td>\n",
       "    </tr>\n",
       "    <tr>\n",
       "      <th>personal care</th>\n",
       "      <td>123365</td>\n",
       "      <td>75442</td>\n",
       "      <td>225499</td>\n",
       "    </tr>\n",
       "    <tr>\n",
       "      <th>pets</th>\n",
       "      <td>25469</td>\n",
       "      <td>15880</td>\n",
       "      <td>51711</td>\n",
       "    </tr>\n",
       "    <tr>\n",
       "      <th>produce</th>\n",
       "      <td>3147376</td>\n",
       "      <td>1336604</td>\n",
       "      <td>4595293</td>\n",
       "    </tr>\n",
       "    <tr>\n",
       "      <th>snacks</th>\n",
       "      <td>943150</td>\n",
       "      <td>413107</td>\n",
       "      <td>1410149</td>\n",
       "    </tr>\n",
       "  </tbody>\n",
       "</table>\n",
       "</div>"
      ],
      "text/plain": [
       "loyalty_flag     Loyal customer  New customer  Regular customer\n",
       "department                                                     \n",
       "alcohol                   38723         28629             77275\n",
       "babies                   167108         46708            196576\n",
       "bakery                   379873        172104            568851\n",
       "beverages                855017        396649           1320235\n",
       "breakfast                221577        106179            343094\n",
       "bulk                      13834          4149             15468\n",
       "canned goods             294594        180196            537284\n",
       "dairy eggs              1830707        750056           2596419\n",
       "deli                     324046        158335            521453\n",
       "dry goods pasta          242580        144836            434720\n",
       "frozen                   609460        372271           1140000\n",
       "household                196873        128117            374867\n",
       "international             78394         43841            133756\n",
       "meat seafood             202480        112464            359837\n",
       "missing                   18350         12713             33705\n",
       "other                     10715          5839             17857\n",
       "pantry                   560402        299576            922727\n",
       "personal care            123365         75442            225499\n",
       "pets                      25469         15880             51711\n",
       "produce                 3147376       1336604           4595293\n",
       "snacks                   943150        413107           1410149"
      ]
     },
     "execution_count": 84,
     "metadata": {},
     "output_type": "execute_result"
    }
   ],
   "source": [
    "# Comparing loyalty status and departments\n",
    "\n",
    "ct_loy_dept = pd.crosstab(custs['department'], custs['loyalty_flag'], dropna = False)\n",
    "ct_loy_dept"
   ]
  },
  {
   "cell_type": "code",
   "execution_count": 85,
   "id": "58613136",
   "metadata": {},
   "outputs": [
    {
     "data": {
      "text/plain": [
       "(array([ 0,  1,  2,  3,  4,  5,  6,  7,  8,  9, 10, 11, 12, 13, 14, 15, 16,\n",
       "        17, 18, 19, 20]),\n",
       " [Text(0, 0, 'alcohol'),\n",
       "  Text(1, 0, 'babies'),\n",
       "  Text(2, 0, 'bakery'),\n",
       "  Text(3, 0, 'beverages'),\n",
       "  Text(4, 0, 'breakfast'),\n",
       "  Text(5, 0, 'bulk'),\n",
       "  Text(6, 0, 'canned goods'),\n",
       "  Text(7, 0, 'dairy eggs'),\n",
       "  Text(8, 0, 'deli'),\n",
       "  Text(9, 0, 'dry goods pasta'),\n",
       "  Text(10, 0, 'frozen'),\n",
       "  Text(11, 0, 'household'),\n",
       "  Text(12, 0, 'international'),\n",
       "  Text(13, 0, 'meat seafood'),\n",
       "  Text(14, 0, 'missing'),\n",
       "  Text(15, 0, 'other'),\n",
       "  Text(16, 0, 'pantry'),\n",
       "  Text(17, 0, 'personal care'),\n",
       "  Text(18, 0, 'pets'),\n",
       "  Text(19, 0, 'produce'),\n",
       "  Text(20, 0, 'snacks')])"
      ]
     },
     "execution_count": 85,
     "metadata": {},
     "output_type": "execute_result"
    },
    {
     "data": {
      "image/png": "[encoded data removed]",
      "text/plain": [
       "<Figure size 1200x400 with 1 Axes>"
      ]
     },
     "metadata": {},
     "output_type": "display_data"
    }
   ],
   "source": [
    "# Create a bar chart \n",
    "\n",
    "bar_ct_loy_dept = ct_loy_dept.plot(kind = 'bar', figsize =(12,4), rot = 0, colormap = 'Set2').legend(title = \"Loyalty Status\", bbox_to_anchor = (1.0,1.0))\n",
    "plt.title('Department purchases by loyalty status', fontsize = 18, pad = 25)\n",
    "plt.ylabel('Frequency (in millions)', fontsize = 12)\n",
    "plt.xticks(rotation = 70)"
   ]
  },
  {
   "cell_type": "markdown",
   "id": "10743003",
   "metadata": {},
   "source": [
    "# 9. Exporting updated dataframes and charts"
   ]
  },
  {
   "cell_type": "markdown",
   "id": "c5f74e29",
   "metadata": {},
   "source": [
    "## 9.1 Exporting dataframe"
   ]
  },
  {
   "cell_type": "code",
   "execution_count": 86,
   "id": "f8bf8100",
   "metadata": {},
   "outputs": [],
   "source": [
    "#Export high_activity_custs in .pkl format\n",
    "\n",
    "custs.to_pickle(os.path.join(path, '02_Data', 'Prepared_Data', 'customer_profiling.pkl'))"
   ]
  },
  {
   "cell_type": "markdown",
   "id": "102bfc31",
   "metadata": {},
   "source": [
    "## 9.2 Exporting charts"
   ]
  },
  {
   "cell_type": "code",
   "execution_count": 87,
   "id": "cee614a6",
   "metadata": {},
   "outputs": [],
   "source": [
    "# Exporting snacks eater pie chart in .png format\n",
    "\n",
    "pie_snacks.figure.savefig(os.path.join(path, '04_Analysis','Visualizations', 'pie_snacks_eater.png'))"
   ]
  },
  {
   "cell_type": "code",
   "execution_count": 88,
   "id": "f96c05f7",
   "metadata": {},
   "outputs": [],
   "source": [
    "# Exporting order-time-habit bar chart in .png format\n",
    "\n",
    "bar_time.figure.savefig(os.path.join(path, '04_Analysis','Visualizations', 'bar_order_time_habit.png'))"
   ]
  },
  {
   "cell_type": "code",
   "execution_count": 89,
   "id": "ffb18375",
   "metadata": {},
   "outputs": [],
   "source": [
    "# Exporting income category bar chart in .png format\n",
    "\n",
    "bar_income.figure.savefig(os.path.join(path, '04_Analysis','Visualizations', 'bar_income_category.png'))"
   ]
  },
  {
   "cell_type": "code",
   "execution_count": 90,
   "id": "be0e0a26",
   "metadata": {},
   "outputs": [],
   "source": [
    "# Exporting income category bar chart in .png format\n",
    "\n",
    "bar_household.figure.savefig(os.path.join(path, '04_Analysis','Visualizations', 'bar_household.png'))"
   ]
  },
  {
   "cell_type": "code",
   "execution_count": 91,
   "id": "1e382847",
   "metadata": {},
   "outputs": [],
   "source": [
    "# Exporting habit and department bar chart in .png format\n",
    "\n",
    "bar_hbt_dept.figure.savefig(os.path.join(path, '04_Analysis','Visualizations', 'bar_habits_depts.png'))"
   ]
  },
  {
   "cell_type": "code",
   "execution_count": 92,
   "id": "66676abb",
   "metadata": {},
   "outputs": [],
   "source": [
    "# Exporting habit and regions bar chart in .png format\n",
    "\n",
    "bar_hbt_reg.figure.savefig(os.path.join(path, '04_Analysis','Visualizations', 'bar_habits_region.png'))"
   ]
  },
  {
   "cell_type": "code",
   "execution_count": 93,
   "id": "4ff96124",
   "metadata": {},
   "outputs": [],
   "source": [
    "# Exporting loyalty and regions bar chart in .png format\n",
    "\n",
    "bar_ct_reg_loy.figure.savefig(os.path.join(path, '04_Analysis','Visualizations', 'bar_loyalty_region.png'))"
   ]
  },
  {
   "cell_type": "code",
   "execution_count": 94,
   "id": "8dab9317",
   "metadata": {},
   "outputs": [],
   "source": [
    "# Exporting loyalty and departments bar chart in .png format\n",
    "\n",
    "bar_ct_loy_dept.figure.savefig(os.path.join(path, '04_Analysis','Visualizations', 'bar_loyalty_depts.png'))"
   ]
  },
  {
   "cell_type": "code",
   "execution_count": 95,
   "id": "2d7aba06",
   "metadata": {},
   "outputs": [],
   "source": [
    "# Exporting price_range and departments bar chart in .png format\n",
    "\n",
    "bar_price_dept.figure.savefig(os.path.join(path, '04_Analysis','Visualizations', 'bar_price_depts.png'))"
   ]
  },
  {
   "cell_type": "code",
   "execution_count": 96,
   "id": "64d2b180",
   "metadata": {},
   "outputs": [],
   "source": [
    "# Exporting loyalty and habits bar chart in .png format\n",
    "\n",
    "bar_loy_hbt.figure.savefig(os.path.join(path, '04_Analysis','Visualizations', 'bar_loy_hbt.png'))"
   ]
  },
  {
   "cell_type": "code",
   "execution_count": 97,
   "id": "36c483b5",
   "metadata": {},
   "outputs": [],
   "source": [
    "# Exporting age and habits bar chart in .png format\n",
    "\n",
    "bar_age_hbt.figure.savefig(os.path.join(path, '04_Analysis','Visualizations', 'bar_age_hbt.png'))"
   ]
  },
  {
   "cell_type": "code",
   "execution_count": 98,
   "id": "6dc38b4a",
   "metadata": {},
   "outputs": [],
   "source": [
    "# Exporting family status and habits bar chart in .png format\n",
    "\n",
    "bar_fam_hbt.figure.savefig(os.path.join(path, '04_Analysis','Visualizations', 'bar_fam_hbt.png'))"
   ]
  },
  {
   "cell_type": "code",
   "execution_count": 99,
   "id": "b8c80bcc",
   "metadata": {},
   "outputs": [],
   "source": [
    "# Exporting Parents with baby bar chart in .png format\n",
    "\n",
    "bar_babies.figure.savefig(os.path.join(path, '04_Analysis','Visualizations', 'bar_babies.png'))"
   ]
  }
 ],
 "metadata": {
  "kernelspec": {
   "display_name": "Python 3 (ipykernel)",
   "language": "python",
   "name": "python3"
  },
  "language_info": {
   "codemirror_mode": {
    "name": "ipython",
    "version": 3
   },
   "file_extension": ".py",
   "mimetype": "text/x-python",
   "name": "python",
   "nbconvert_exporter": "python",
   "pygments_lexer": "ipython3",
   "version": "3.9.13"
  }
 },
 "nbformat": 4,
 "nbformat_minor": 5
}
